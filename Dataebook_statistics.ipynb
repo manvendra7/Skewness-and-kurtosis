{
  "nbformat": 4,
  "nbformat_minor": 0,
  "metadata": {
    "kernelspec": {
      "display_name": "Python 3",
      "language": "python",
      "name": "python3"
    },
    "language_info": {
      "codemirror_mode": {
        "name": "ipython",
        "version": 3
      },
      "file_extension": ".py",
      "mimetype": "text/x-python",
      "name": "python",
      "nbconvert_exporter": "python",
      "pygments_lexer": "ipython3",
      "version": "3.7.3"
    },
    "colab": {
      "name": "Dataebook_statistics.ipynb",
      "provenance": []
    }
  },
  "cells": [
    {
      "cell_type": "markdown",
      "metadata": {
        "id": "PJTlSBJokrbi",
        "colab_type": "text"
      },
      "source": [
        "# WHY DO WE CARE SO MUCH ABOUT NORAMLITY ?\n",
        "\n",
        "![1.jpeg](attachment:1.jpeg)\n"
      ]
    },
    {
      "cell_type": "markdown",
      "metadata": {
        "id": "XAnruj_okrbl",
        "colab_type": "text"
      },
      "source": [
        "## Most of the paramteric machine learning models like LDA, Linear Regression and amy more assume that the data is normally distributed. If this assumption fails the model fails to give accurate predictions.\n"
      ]
    },
    {
      "cell_type": "markdown",
      "metadata": {
        "id": "Oce_d2CDkrbm",
        "colab_type": "text"
      },
      "source": [
        "# Everyone Learn statistics but they fail to apply But\n",
        "![ty.jpg](attachment:ty.jpg)\n",
        "\n",
        "# We are here to make it easy #Dataebook\n"
      ]
    },
    {
      "cell_type": "markdown",
      "metadata": {
        "id": "wVCX47PAkrbp",
        "colab_type": "text"
      },
      "source": [
        "# WHAT IS NORMAL DISTRIBUTION ?"
      ]
    },
    {
      "cell_type": "markdown",
      "metadata": {
        "id": "S10H2L1Okrbq",
        "colab_type": "text"
      },
      "source": [
        "# A probability distribution with the mean 0 and standard deviation of 1 is known as standard normal distribution or Gaussian distribution. A normal distibution is symmetric about the mean and follows a bell shaped curve . And almost 99.7% of the values lies within 3 standard deviation. The mean, median and mode of a normal distribution are equal."
      ]
    },
    {
      "cell_type": "markdown",
      "metadata": {
        "id": "DfSjWud6krbs",
        "colab_type": "text"
      },
      "source": [
        "# Handling Skewness "
      ]
    },
    {
      "cell_type": "markdown",
      "metadata": {
        "id": "SZOV4MJCkrbu",
        "colab_type": "text"
      },
      "source": [
        "<font color=brown>Skewness of a distribution is defined as the lack of symmetry. In a symmetrical distribution, the Mean, Meadian and Mode are equal.The normal distribution has a skewness of 0.\n",
        "\n",
        "Skewness tell us about distribution of our data.</font>\n",
        "\n",
        "![Skewness_1.png](attachment:Skewness_1.png)"
      ]
    },
    {
      "cell_type": "markdown",
      "metadata": {
        "id": "rdCFqWcnkrbw",
        "colab_type": "text"
      },
      "source": [
        "# Skewness is of two types:\n",
        "\n",
        "## Positive skewness: When the tail on the right side of the distribution is longer or fatter, we say the data is positively skewed. For a positive skewness mean > median > mode.\n",
        "\n",
        "## Negative skewness: When the tail on the left side of the distribution is longer or fatter, we say that the distribution is negatively skewed. For a negative skewness mean < median < mode.\n",
        "\n"
      ]
    },
    {
      "cell_type": "markdown",
      "metadata": {
        "id": "t1BP8oq0krbx",
        "colab_type": "text"
      },
      "source": [
        "### Let's have clear picture of skewness\n",
        "Skewness of a distribution is defined as the lack of symmetry. In a symmetrical distribution, the Mean, Meadian and Mode are equal to each other.The normal distribution has a skewness of 0.\n",
        "Skewness tell us about where most of the values are concentrated on an ascending scale.\n",
        "\n",
        "\n",
        "__Now, the question is when we can say our data is mderately skewed or heavily skewed?__\n",
        "  \n",
        "  The thumb rule is:\n",
        "  * If the skewness is between -0.5 to +0.5 then we can say data is fairly symmetrical.\n",
        "  * If the skewness is between -1 to -0.5 or 0.5 to 1 then data is moderately skewed.\n",
        "  * And if the skewness is less than -1 and greater than +1 then our data is heavily skewed."
      ]
    },
    {
      "cell_type": "markdown",
      "metadata": {
        "id": "qNxgEie0krby",
        "colab_type": "text"
      },
      "source": [
        "### Types of Skewness\n",
        "\n",
        "* __Positive skewness:__ In simple words, if the skewness is greater than 0 then the distribution is positively skewed. The tail on the right side of the distribution will be longer or flatter. If the data is positively skewed than most of values will be concentrated below the average value of the data.\n",
        "\n",
        "\n",
        "* __Negative skewness:__ If the skewness is less than 0 then the distribution is negatively skewed. For negatively skewed data, most of the values will be concentrated above the average value and tail on the left side of the distribution will be longer of flatter."
      ]
    },
    {
      "cell_type": "markdown",
      "metadata": {
        "id": "N9olPsG1krbz",
        "colab_type": "text"
      },
      "source": [
        "### What does skewness tells us?\n",
        "\n",
        "\n",
        "## To understand this better consider a example.\n",
        "\n",
        "### Consider house prices ranging from 100k to 1,000,000 with the average being 500,000.\n",
        "\n",
        "### If the peak of the distribution is in left side that means our data is positively skewed and most of the houses are being sold at the price less than the average.\n",
        "\n",
        "If the peak of the distribution is in right side that means our data is negatively skewed and most of the houses are being sold at the price greater than the average.\n",
        "\n",
        "Skewness of a data indicates the **direction and relative magnitude of a distribution's deviation from the normal distribution.** Skewness considers the extremes of the dataset rather than concentrating only on the average. Investors need to look at the extremes while judging the return from market as they are less likely to depend on the average value to work out.\n",
        "\n",
        "Many **model assumes normal distribution** but in reality data points may not be perfectly symmetric. If the data are skewed, then this kind of **model will always underestimate the skewness risk**.The more the data is skewed the less accurate the model will be."
      ]
    },
    {
      "cell_type": "markdown",
      "metadata": {
        "id": "W98cr5nWkrb0",
        "colab_type": "text"
      },
      "source": [
        "Here,\n",
        "* skew of raw data is positive and greater than 1, right tail of the data is skewed.\n",
        "* skew of raw data is negative and less than 1, left tail of the data is skewed."
      ]
    },
    {
      "cell_type": "markdown",
      "metadata": {
        "id": "qfgpgT6lkrb1",
        "colab_type": "text"
      },
      "source": [
        "# Still you are not getting\n",
        "![sorry.jpg](attachment:sorry.jpg)\n",
        "\n",
        "# Major key skill while you apply your knowledge is \"Commensence\"otherwise it's just an information that you are collecting\n",
        "\n",
        "![ccc.gif](attachment:ccc.gif)"
      ]
    },
    {
      "cell_type": "markdown",
      "metadata": {
        "id": "gU0t67omkrb3",
        "colab_type": "text"
      },
      "source": [
        "![eee.gif](attachment:eee.gif)\n",
        "\n",
        "# TO Experence the same as we have learned & let's explore more to enhance our new way of learning.\n",
        "\n",
        "# All dataset used can be downloaded from this link(https://drive.google.com/open?id=1MaaYBHr5GOcmFn_YQ8mrbYV0j3Y2BVm1)"
      ]
    },
    {
      "cell_type": "markdown",
      "metadata": {
        "id": "5waAyyhOkrb4",
        "colab_type": "text"
      },
      "source": [
        "#importing the libraries\n",
        "import pandas as pd\n",
        "import numpy as np"
      ]
    },
    {
      "cell_type": "markdown",
      "metadata": {
        "id": "Y15eqGj2krb5",
        "colab_type": "text"
      },
      "source": [
        "### About Dataset\n",
        "\n",
        "This dataset tells the details about the cars. The car Dataset contain the following attributes:\n",
        "\n",
        "* index: Unnamed: 0(index values)\n",
        "* price: The sale price of the vehicle in the ad\n",
        "* brand: The brand of car\n",
        "* model: model of the vehicle\n",
        "* year: The vehicle registration year\n",
        "* title_status: This feature included binary classification, which are clean title vehicles and salvage insurance\n",
        "* mileage: miles traveled by vehicle\n",
        "* color: Color of the vehicle\n",
        "* vinThe:  vehicle identification number is a collection of 17 characters (digits and capital letters)\n",
        "* lot: A lot number is an identification number assigned to a particular quantity or lot of material from a single manufacturer. For cars, a lot number is combined with a serial number to form the Vehicle Identification Number.\n",
        "* state: The location in which the car is being available for purchase\n",
        "* country: The location in which the car is being available for purchase\n",
        "* condition: Time"
      ]
    },
    {
      "cell_type": "code",
      "metadata": {
        "id": "UK5uLletkrb6",
        "colab_type": "code",
        "colab": {}
      },
      "source": [
        "#reading the dataset\n",
        "data = pd.read_csv(r'cars_datasets.csv')"
      ],
      "execution_count": 0,
      "outputs": []
    },
    {
      "cell_type": "code",
      "metadata": {
        "id": "Z-1RqZyLkrcC",
        "colab_type": "code",
        "colab": {},
        "outputId": "72707856-ad48-419d-d63d-1858d4b82ba8"
      },
      "source": [
        "#look at dataset\n",
        "data"
      ],
      "execution_count": 0,
      "outputs": [
        {
          "output_type": "execute_result",
          "data": {
            "text/html": [
              "<div>\n",
              "<style scoped>\n",
              "    .dataframe tbody tr th:only-of-type {\n",
              "        vertical-align: middle;\n",
              "    }\n",
              "\n",
              "    .dataframe tbody tr th {\n",
              "        vertical-align: top;\n",
              "    }\n",
              "\n",
              "    .dataframe thead th {\n",
              "        text-align: right;\n",
              "    }\n",
              "</style>\n",
              "<table border=\"1\" class=\"dataframe\">\n",
              "  <thead>\n",
              "    <tr style=\"text-align: right;\">\n",
              "      <th></th>\n",
              "      <th>Unnamed: 0</th>\n",
              "      <th>price</th>\n",
              "      <th>brand</th>\n",
              "      <th>model</th>\n",
              "      <th>year</th>\n",
              "      <th>title_status</th>\n",
              "      <th>mileage</th>\n",
              "      <th>color</th>\n",
              "      <th>vin</th>\n",
              "      <th>lot</th>\n",
              "      <th>state</th>\n",
              "      <th>country</th>\n",
              "      <th>condition</th>\n",
              "    </tr>\n",
              "  </thead>\n",
              "  <tbody>\n",
              "    <tr>\n",
              "      <th>0</th>\n",
              "      <td>0</td>\n",
              "      <td>6300</td>\n",
              "      <td>toyota</td>\n",
              "      <td>cruiser</td>\n",
              "      <td>2008</td>\n",
              "      <td>clean vehicle</td>\n",
              "      <td>274117.0</td>\n",
              "      <td>black</td>\n",
              "      <td>jtezu11f88k007763</td>\n",
              "      <td>159348797</td>\n",
              "      <td>new jersey</td>\n",
              "      <td>usa</td>\n",
              "      <td>10 days left</td>\n",
              "    </tr>\n",
              "    <tr>\n",
              "      <th>1</th>\n",
              "      <td>1</td>\n",
              "      <td>2899</td>\n",
              "      <td>ford</td>\n",
              "      <td>se</td>\n",
              "      <td>2011</td>\n",
              "      <td>clean vehicle</td>\n",
              "      <td>190552.0</td>\n",
              "      <td>silver</td>\n",
              "      <td>2fmdk3gc4bbb02217</td>\n",
              "      <td>166951262</td>\n",
              "      <td>tennessee</td>\n",
              "      <td>usa</td>\n",
              "      <td>6 days left</td>\n",
              "    </tr>\n",
              "    <tr>\n",
              "      <th>2</th>\n",
              "      <td>2</td>\n",
              "      <td>5350</td>\n",
              "      <td>dodge</td>\n",
              "      <td>mpv</td>\n",
              "      <td>2018</td>\n",
              "      <td>clean vehicle</td>\n",
              "      <td>39590.0</td>\n",
              "      <td>silver</td>\n",
              "      <td>3c4pdcgg5jt346413</td>\n",
              "      <td>167655728</td>\n",
              "      <td>georgia</td>\n",
              "      <td>usa</td>\n",
              "      <td>2 days left</td>\n",
              "    </tr>\n",
              "    <tr>\n",
              "      <th>3</th>\n",
              "      <td>3</td>\n",
              "      <td>25000</td>\n",
              "      <td>ford</td>\n",
              "      <td>door</td>\n",
              "      <td>2014</td>\n",
              "      <td>clean vehicle</td>\n",
              "      <td>64146.0</td>\n",
              "      <td>blue</td>\n",
              "      <td>1ftfw1et4efc23745</td>\n",
              "      <td>167753855</td>\n",
              "      <td>virginia</td>\n",
              "      <td>usa</td>\n",
              "      <td>22 hours left</td>\n",
              "    </tr>\n",
              "    <tr>\n",
              "      <th>4</th>\n",
              "      <td>4</td>\n",
              "      <td>27700</td>\n",
              "      <td>chevrolet</td>\n",
              "      <td>1500</td>\n",
              "      <td>2018</td>\n",
              "      <td>clean vehicle</td>\n",
              "      <td>6654.0</td>\n",
              "      <td>red</td>\n",
              "      <td>3gcpcrec2jg473991</td>\n",
              "      <td>167763266</td>\n",
              "      <td>florida</td>\n",
              "      <td>usa</td>\n",
              "      <td>22 hours left</td>\n",
              "    </tr>\n",
              "    <tr>\n",
              "      <th>5</th>\n",
              "      <td>5</td>\n",
              "      <td>5700</td>\n",
              "      <td>dodge</td>\n",
              "      <td>mpv</td>\n",
              "      <td>2018</td>\n",
              "      <td>clean vehicle</td>\n",
              "      <td>45561.0</td>\n",
              "      <td>white</td>\n",
              "      <td>2c4rdgeg9jr237989</td>\n",
              "      <td>167655771</td>\n",
              "      <td>texas</td>\n",
              "      <td>usa</td>\n",
              "      <td>2 days left</td>\n",
              "    </tr>\n",
              "    <tr>\n",
              "      <th>6</th>\n",
              "      <td>6</td>\n",
              "      <td>7300</td>\n",
              "      <td>chevrolet</td>\n",
              "      <td>pk</td>\n",
              "      <td>2010</td>\n",
              "      <td>clean vehicle</td>\n",
              "      <td>149050.0</td>\n",
              "      <td>black</td>\n",
              "      <td>1gcsksea1az121133</td>\n",
              "      <td>167753872</td>\n",
              "      <td>georgia</td>\n",
              "      <td>usa</td>\n",
              "      <td>22 hours left</td>\n",
              "    </tr>\n",
              "    <tr>\n",
              "      <th>7</th>\n",
              "      <td>7</td>\n",
              "      <td>13350</td>\n",
              "      <td>gmc</td>\n",
              "      <td>door</td>\n",
              "      <td>2017</td>\n",
              "      <td>clean vehicle</td>\n",
              "      <td>23525.0</td>\n",
              "      <td>gray</td>\n",
              "      <td>1gks2gkc3hr326762</td>\n",
              "      <td>167692494</td>\n",
              "      <td>california</td>\n",
              "      <td>usa</td>\n",
              "      <td>20 hours left</td>\n",
              "    </tr>\n",
              "    <tr>\n",
              "      <th>8</th>\n",
              "      <td>8</td>\n",
              "      <td>14600</td>\n",
              "      <td>chevrolet</td>\n",
              "      <td>malibu</td>\n",
              "      <td>2018</td>\n",
              "      <td>clean vehicle</td>\n",
              "      <td>9371.0</td>\n",
              "      <td>silver</td>\n",
              "      <td>1g1zd5st5jf191860</td>\n",
              "      <td>167763267</td>\n",
              "      <td>florida</td>\n",
              "      <td>usa</td>\n",
              "      <td>22 hours left</td>\n",
              "    </tr>\n",
              "    <tr>\n",
              "      <th>9</th>\n",
              "      <td>9</td>\n",
              "      <td>5250</td>\n",
              "      <td>ford</td>\n",
              "      <td>mpv</td>\n",
              "      <td>2017</td>\n",
              "      <td>clean vehicle</td>\n",
              "      <td>63418.0</td>\n",
              "      <td>black</td>\n",
              "      <td>2fmpk3j92hbc12542</td>\n",
              "      <td>167656121</td>\n",
              "      <td>texas</td>\n",
              "      <td>usa</td>\n",
              "      <td>2 days left</td>\n",
              "    </tr>\n",
              "    <tr>\n",
              "      <th>10</th>\n",
              "      <td>10</td>\n",
              "      <td>10400</td>\n",
              "      <td>dodge</td>\n",
              "      <td>coupe</td>\n",
              "      <td>2009</td>\n",
              "      <td>clean vehicle</td>\n",
              "      <td>107856.0</td>\n",
              "      <td>orange</td>\n",
              "      <td>2b3lj54t49h509675</td>\n",
              "      <td>167753874</td>\n",
              "      <td>georgia</td>\n",
              "      <td>usa</td>\n",
              "      <td>22 hours left</td>\n",
              "    </tr>\n",
              "    <tr>\n",
              "      <th>11</th>\n",
              "      <td>11</td>\n",
              "      <td>12920</td>\n",
              "      <td>gmc</td>\n",
              "      <td>mpv</td>\n",
              "      <td>2017</td>\n",
              "      <td>clean vehicle</td>\n",
              "      <td>39650.0</td>\n",
              "      <td>white</td>\n",
              "      <td>1gks2bkc6hr136280</td>\n",
              "      <td>167692496</td>\n",
              "      <td>california</td>\n",
              "      <td>usa</td>\n",
              "      <td>20 hours left</td>\n",
              "    </tr>\n",
              "    <tr>\n",
              "      <th>12</th>\n",
              "      <td>12</td>\n",
              "      <td>31900</td>\n",
              "      <td>chevrolet</td>\n",
              "      <td>1500</td>\n",
              "      <td>2018</td>\n",
              "      <td>clean vehicle</td>\n",
              "      <td>22909.0</td>\n",
              "      <td>black</td>\n",
              "      <td>3gcukrec0jg176059</td>\n",
              "      <td>167763273</td>\n",
              "      <td>tennessee</td>\n",
              "      <td>usa</td>\n",
              "      <td>22 hours left</td>\n",
              "    </tr>\n",
              "    <tr>\n",
              "      <th>13</th>\n",
              "      <td>13</td>\n",
              "      <td>5430</td>\n",
              "      <td>chrysler</td>\n",
              "      <td>wagon</td>\n",
              "      <td>2017</td>\n",
              "      <td>clean vehicle</td>\n",
              "      <td>138650.0</td>\n",
              "      <td>gray</td>\n",
              "      <td>2c4rc1cg5hr616095</td>\n",
              "      <td>167656123</td>\n",
              "      <td>texas</td>\n",
              "      <td>usa</td>\n",
              "      <td>2 days left</td>\n",
              "    </tr>\n",
              "    <tr>\n",
              "      <th>14</th>\n",
              "      <td>14</td>\n",
              "      <td>20700</td>\n",
              "      <td>ford</td>\n",
              "      <td>door</td>\n",
              "      <td>2013</td>\n",
              "      <td>clean vehicle</td>\n",
              "      <td>100757.0</td>\n",
              "      <td>black</td>\n",
              "      <td>1ftfw1et7dfa47790</td>\n",
              "      <td>167753916</td>\n",
              "      <td>virginia</td>\n",
              "      <td>usa</td>\n",
              "      <td>22 hours left</td>\n",
              "    </tr>\n",
              "    <tr>\n",
              "      <th>15</th>\n",
              "      <td>15</td>\n",
              "      <td>12710</td>\n",
              "      <td>gmc</td>\n",
              "      <td>door</td>\n",
              "      <td>2017</td>\n",
              "      <td>clean vehicle</td>\n",
              "      <td>25747.0</td>\n",
              "      <td>white</td>\n",
              "      <td>1gks2gkc6hr328389</td>\n",
              "      <td>167692497</td>\n",
              "      <td>california</td>\n",
              "      <td>usa</td>\n",
              "      <td>20 hours left</td>\n",
              "    </tr>\n",
              "    <tr>\n",
              "      <th>16</th>\n",
              "      <td>16</td>\n",
              "      <td>5200</td>\n",
              "      <td>kia</td>\n",
              "      <td>forte</td>\n",
              "      <td>2018</td>\n",
              "      <td>clean vehicle</td>\n",
              "      <td>46194.0</td>\n",
              "      <td>blue</td>\n",
              "      <td>3kpfk4a77je198723</td>\n",
              "      <td>167801757</td>\n",
              "      <td>north carolina</td>\n",
              "      <td>usa</td>\n",
              "      <td>2 days left</td>\n",
              "    </tr>\n",
              "    <tr>\n",
              "      <th>17</th>\n",
              "      <td>17</td>\n",
              "      <td>16500</td>\n",
              "      <td>buick</td>\n",
              "      <td>encore</td>\n",
              "      <td>2018</td>\n",
              "      <td>clean vehicle</td>\n",
              "      <td>20002.0</td>\n",
              "      <td>red</td>\n",
              "      <td>kl4cj1sb6jb688844</td>\n",
              "      <td>167763275</td>\n",
              "      <td>tennessee</td>\n",
              "      <td>usa</td>\n",
              "      <td>22 hours left</td>\n",
              "    </tr>\n",
              "    <tr>\n",
              "      <th>18</th>\n",
              "      <td>18</td>\n",
              "      <td>5210</td>\n",
              "      <td>ford</td>\n",
              "      <td>mpv</td>\n",
              "      <td>2017</td>\n",
              "      <td>clean vehicle</td>\n",
              "      <td>35714.0</td>\n",
              "      <td>white</td>\n",
              "      <td>2fmpk3j95hbb73607</td>\n",
              "      <td>167656124</td>\n",
              "      <td>texas</td>\n",
              "      <td>usa</td>\n",
              "      <td>2 days left</td>\n",
              "    </tr>\n",
              "    <tr>\n",
              "      <th>19</th>\n",
              "      <td>19</td>\n",
              "      <td>38100</td>\n",
              "      <td>ford</td>\n",
              "      <td>door</td>\n",
              "      <td>2013</td>\n",
              "      <td>clean vehicle</td>\n",
              "      <td>54380.0</td>\n",
              "      <td>gray</td>\n",
              "      <td>1ft8w3dt5deb68569</td>\n",
              "      <td>167753923</td>\n",
              "      <td>virginia</td>\n",
              "      <td>usa</td>\n",
              "      <td>22 hours left</td>\n",
              "    </tr>\n",
              "    <tr>\n",
              "      <th>20</th>\n",
              "      <td>20</td>\n",
              "      <td>12520</td>\n",
              "      <td>gmc</td>\n",
              "      <td>door</td>\n",
              "      <td>2017</td>\n",
              "      <td>clean vehicle</td>\n",
              "      <td>30114.0</td>\n",
              "      <td>white</td>\n",
              "      <td>1gks2gkcxhr328380</td>\n",
              "      <td>167692498</td>\n",
              "      <td>california</td>\n",
              "      <td>usa</td>\n",
              "      <td>20 hours left</td>\n",
              "    </tr>\n",
              "    <tr>\n",
              "      <th>21</th>\n",
              "      <td>21</td>\n",
              "      <td>7300</td>\n",
              "      <td>kia</td>\n",
              "      <td>forte</td>\n",
              "      <td>2018</td>\n",
              "      <td>clean vehicle</td>\n",
              "      <td>38823.0</td>\n",
              "      <td>black</td>\n",
              "      <td>3kpfl4a79je272611</td>\n",
              "      <td>167801773</td>\n",
              "      <td>north carolina</td>\n",
              "      <td>usa</td>\n",
              "      <td>2 days left</td>\n",
              "    </tr>\n",
              "    <tr>\n",
              "      <th>22</th>\n",
              "      <td>22</td>\n",
              "      <td>15000</td>\n",
              "      <td>chevrolet</td>\n",
              "      <td>door</td>\n",
              "      <td>2015</td>\n",
              "      <td>clean vehicle</td>\n",
              "      <td>61578.0</td>\n",
              "      <td>black</td>\n",
              "      <td>2gnflhe33f6214023</td>\n",
              "      <td>167763280</td>\n",
              "      <td>ohio</td>\n",
              "      <td>usa</td>\n",
              "      <td>2 days left</td>\n",
              "    </tr>\n",
              "    <tr>\n",
              "      <th>23</th>\n",
              "      <td>23</td>\n",
              "      <td>6180</td>\n",
              "      <td>ford</td>\n",
              "      <td>mpv</td>\n",
              "      <td>2017</td>\n",
              "      <td>clean vehicle</td>\n",
              "      <td>46010.0</td>\n",
              "      <td>blue</td>\n",
              "      <td>2fmpk3j84hbc09276</td>\n",
              "      <td>167656125</td>\n",
              "      <td>texas</td>\n",
              "      <td>usa</td>\n",
              "      <td>2 days left</td>\n",
              "    </tr>\n",
              "    <tr>\n",
              "      <th>24</th>\n",
              "      <td>24</td>\n",
              "      <td>20800</td>\n",
              "      <td>ford</td>\n",
              "      <td>door</td>\n",
              "      <td>2013</td>\n",
              "      <td>clean vehicle</td>\n",
              "      <td>105510.0</td>\n",
              "      <td>silver</td>\n",
              "      <td>1ftfw1efxdfa01008</td>\n",
              "      <td>167753937</td>\n",
              "      <td>virginia</td>\n",
              "      <td>usa</td>\n",
              "      <td>22 hours left</td>\n",
              "    </tr>\n",
              "    <tr>\n",
              "      <th>25</th>\n",
              "      <td>25</td>\n",
              "      <td>11900</td>\n",
              "      <td>gmc</td>\n",
              "      <td>door</td>\n",
              "      <td>2017</td>\n",
              "      <td>clean vehicle</td>\n",
              "      <td>28040.0</td>\n",
              "      <td>silver</td>\n",
              "      <td>1gks2gkc2hr327918</td>\n",
              "      <td>167692503</td>\n",
              "      <td>california</td>\n",
              "      <td>usa</td>\n",
              "      <td>20 hours left</td>\n",
              "    </tr>\n",
              "    <tr>\n",
              "      <th>26</th>\n",
              "      <td>26</td>\n",
              "      <td>21500</td>\n",
              "      <td>kia</td>\n",
              "      <td>sorento</td>\n",
              "      <td>2020</td>\n",
              "      <td>clean vehicle</td>\n",
              "      <td>11451.0</td>\n",
              "      <td>blue</td>\n",
              "      <td>5xypg4a59lg616029</td>\n",
              "      <td>167801828</td>\n",
              "      <td>north carolina</td>\n",
              "      <td>usa</td>\n",
              "      <td>2 days left</td>\n",
              "    </tr>\n",
              "    <tr>\n",
              "      <th>27</th>\n",
              "      <td>27</td>\n",
              "      <td>12000</td>\n",
              "      <td>buick</td>\n",
              "      <td>door</td>\n",
              "      <td>2014</td>\n",
              "      <td>clean vehicle</td>\n",
              "      <td>31039.0</td>\n",
              "      <td>brown</td>\n",
              "      <td>1g4ps5sk1e4188639</td>\n",
              "      <td>167763299</td>\n",
              "      <td>ohio</td>\n",
              "      <td>usa</td>\n",
              "      <td>2 days left</td>\n",
              "    </tr>\n",
              "    <tr>\n",
              "      <th>28</th>\n",
              "      <td>28</td>\n",
              "      <td>4190</td>\n",
              "      <td>ford</td>\n",
              "      <td>doors</td>\n",
              "      <td>2017</td>\n",
              "      <td>clean vehicle</td>\n",
              "      <td>44174.0</td>\n",
              "      <td>white</td>\n",
              "      <td>1fadp5auxhl109013</td>\n",
              "      <td>167656126</td>\n",
              "      <td>texas</td>\n",
              "      <td>usa</td>\n",
              "      <td>2 days left</td>\n",
              "    </tr>\n",
              "    <tr>\n",
              "      <th>29</th>\n",
              "      <td>29</td>\n",
              "      <td>13000</td>\n",
              "      <td>ford</td>\n",
              "      <td>chassis</td>\n",
              "      <td>2008</td>\n",
              "      <td>clean vehicle</td>\n",
              "      <td>93698.0</td>\n",
              "      <td>white</td>\n",
              "      <td>1fdwf37r28eb95687</td>\n",
              "      <td>167754098</td>\n",
              "      <td>tennessee</td>\n",
              "      <td>usa</td>\n",
              "      <td>22 hours left</td>\n",
              "    </tr>\n",
              "    <tr>\n",
              "      <th>...</th>\n",
              "      <td>...</td>\n",
              "      <td>...</td>\n",
              "      <td>...</td>\n",
              "      <td>...</td>\n",
              "      <td>...</td>\n",
              "      <td>...</td>\n",
              "      <td>...</td>\n",
              "      <td>...</td>\n",
              "      <td>...</td>\n",
              "      <td>...</td>\n",
              "      <td>...</td>\n",
              "      <td>...</td>\n",
              "      <td>...</td>\n",
              "    </tr>\n",
              "    <tr>\n",
              "      <th>2469</th>\n",
              "      <td>2469</td>\n",
              "      <td>13900</td>\n",
              "      <td>nissan</td>\n",
              "      <td>rogue</td>\n",
              "      <td>2018</td>\n",
              "      <td>clean vehicle</td>\n",
              "      <td>34547.0</td>\n",
              "      <td>white</td>\n",
              "      <td>knmat2mtxjp581687</td>\n",
              "      <td>167762118</td>\n",
              "      <td>florida</td>\n",
              "      <td>usa</td>\n",
              "      <td>21 hours left</td>\n",
              "    </tr>\n",
              "    <tr>\n",
              "      <th>2470</th>\n",
              "      <td>2470</td>\n",
              "      <td>3700</td>\n",
              "      <td>nissan</td>\n",
              "      <td>door</td>\n",
              "      <td>2015</td>\n",
              "      <td>clean vehicle</td>\n",
              "      <td>75858.0</td>\n",
              "      <td>silver</td>\n",
              "      <td>3n1ab7ap4fy228278</td>\n",
              "      <td>167762173</td>\n",
              "      <td>illinois</td>\n",
              "      <td>usa</td>\n",
              "      <td>2 days left</td>\n",
              "    </tr>\n",
              "    <tr>\n",
              "      <th>2471</th>\n",
              "      <td>2471</td>\n",
              "      <td>18800</td>\n",
              "      <td>nissan</td>\n",
              "      <td>pathfinder</td>\n",
              "      <td>2019</td>\n",
              "      <td>clean vehicle</td>\n",
              "      <td>31123.0</td>\n",
              "      <td>white</td>\n",
              "      <td>5n1dr2mn9kc620299</td>\n",
              "      <td>167717945</td>\n",
              "      <td>north carolina</td>\n",
              "      <td>usa</td>\n",
              "      <td>21 hours left</td>\n",
              "    </tr>\n",
              "    <tr>\n",
              "      <th>2472</th>\n",
              "      <td>2472</td>\n",
              "      <td>9200</td>\n",
              "      <td>nissan</td>\n",
              "      <td>versa</td>\n",
              "      <td>2018</td>\n",
              "      <td>clean vehicle</td>\n",
              "      <td>33808.0</td>\n",
              "      <td>black</td>\n",
              "      <td>3n1cn7ap3jl883781</td>\n",
              "      <td>167762207</td>\n",
              "      <td>florida</td>\n",
              "      <td>usa</td>\n",
              "      <td>2 days left</td>\n",
              "    </tr>\n",
              "    <tr>\n",
              "      <th>2473</th>\n",
              "      <td>2473</td>\n",
              "      <td>30100</td>\n",
              "      <td>nissan</td>\n",
              "      <td>titan</td>\n",
              "      <td>2019</td>\n",
              "      <td>clean vehicle</td>\n",
              "      <td>30599.0</td>\n",
              "      <td>black</td>\n",
              "      <td>1n6aa1e56kn519701</td>\n",
              "      <td>167718010</td>\n",
              "      <td>north carolina</td>\n",
              "      <td>usa</td>\n",
              "      <td>21 hours left</td>\n",
              "    </tr>\n",
              "    <tr>\n",
              "      <th>2474</th>\n",
              "      <td>2474</td>\n",
              "      <td>9200</td>\n",
              "      <td>nissan</td>\n",
              "      <td>versa</td>\n",
              "      <td>2018</td>\n",
              "      <td>clean vehicle</td>\n",
              "      <td>33931.0</td>\n",
              "      <td>black</td>\n",
              "      <td>3n1cn7ap5jl882616</td>\n",
              "      <td>167762208</td>\n",
              "      <td>florida</td>\n",
              "      <td>usa</td>\n",
              "      <td>2 days left</td>\n",
              "    </tr>\n",
              "    <tr>\n",
              "      <th>2475</th>\n",
              "      <td>2475</td>\n",
              "      <td>11100</td>\n",
              "      <td>nissan</td>\n",
              "      <td>sentra</td>\n",
              "      <td>2019</td>\n",
              "      <td>clean vehicle</td>\n",
              "      <td>40359.0</td>\n",
              "      <td>black</td>\n",
              "      <td>3n1ab7apxkl613545</td>\n",
              "      <td>167718011</td>\n",
              "      <td>north carolina</td>\n",
              "      <td>usa</td>\n",
              "      <td>21 hours left</td>\n",
              "    </tr>\n",
              "    <tr>\n",
              "      <th>2476</th>\n",
              "      <td>2476</td>\n",
              "      <td>13900</td>\n",
              "      <td>nissan</td>\n",
              "      <td>rogue</td>\n",
              "      <td>2018</td>\n",
              "      <td>clean vehicle</td>\n",
              "      <td>44313.0</td>\n",
              "      <td>white</td>\n",
              "      <td>knmat2mt8jp581980</td>\n",
              "      <td>167762209</td>\n",
              "      <td>florida</td>\n",
              "      <td>usa</td>\n",
              "      <td>21 hours left</td>\n",
              "    </tr>\n",
              "    <tr>\n",
              "      <th>2477</th>\n",
              "      <td>2477</td>\n",
              "      <td>9100</td>\n",
              "      <td>nissan</td>\n",
              "      <td>versa</td>\n",
              "      <td>2018</td>\n",
              "      <td>clean vehicle</td>\n",
              "      <td>33078.0</td>\n",
              "      <td>black</td>\n",
              "      <td>3n1cn7ap0jl882846</td>\n",
              "      <td>167762210</td>\n",
              "      <td>florida</td>\n",
              "      <td>usa</td>\n",
              "      <td>21 hours left</td>\n",
              "    </tr>\n",
              "    <tr>\n",
              "      <th>2478</th>\n",
              "      <td>2478</td>\n",
              "      <td>22800</td>\n",
              "      <td>nissan</td>\n",
              "      <td>frontier</td>\n",
              "      <td>2019</td>\n",
              "      <td>clean vehicle</td>\n",
              "      <td>24320.0</td>\n",
              "      <td>black</td>\n",
              "      <td>1n6ad0evxkn714086</td>\n",
              "      <td>167722343</td>\n",
              "      <td>illinois</td>\n",
              "      <td>usa</td>\n",
              "      <td>21 hours left</td>\n",
              "    </tr>\n",
              "    <tr>\n",
              "      <th>2479</th>\n",
              "      <td>2479</td>\n",
              "      <td>13900</td>\n",
              "      <td>nissan</td>\n",
              "      <td>rogue</td>\n",
              "      <td>2018</td>\n",
              "      <td>clean vehicle</td>\n",
              "      <td>42502.0</td>\n",
              "      <td>black</td>\n",
              "      <td>knmat2mt3jp582048</td>\n",
              "      <td>167762211</td>\n",
              "      <td>florida</td>\n",
              "      <td>usa</td>\n",
              "      <td>21 hours left</td>\n",
              "    </tr>\n",
              "    <tr>\n",
              "      <th>2480</th>\n",
              "      <td>2480</td>\n",
              "      <td>12600</td>\n",
              "      <td>nissan</td>\n",
              "      <td>altima</td>\n",
              "      <td>2019</td>\n",
              "      <td>clean vehicle</td>\n",
              "      <td>33497.0</td>\n",
              "      <td>gray</td>\n",
              "      <td>1n4bl4cv1kc171832</td>\n",
              "      <td>167722410</td>\n",
              "      <td>california</td>\n",
              "      <td>usa</td>\n",
              "      <td>1 days left</td>\n",
              "    </tr>\n",
              "    <tr>\n",
              "      <th>2481</th>\n",
              "      <td>2481</td>\n",
              "      <td>9200</td>\n",
              "      <td>nissan</td>\n",
              "      <td>versa</td>\n",
              "      <td>2018</td>\n",
              "      <td>clean vehicle</td>\n",
              "      <td>39577.0</td>\n",
              "      <td>silver</td>\n",
              "      <td>3n1cn7ap7jl883833</td>\n",
              "      <td>167762212</td>\n",
              "      <td>florida</td>\n",
              "      <td>usa</td>\n",
              "      <td>2 days left</td>\n",
              "    </tr>\n",
              "    <tr>\n",
              "      <th>2482</th>\n",
              "      <td>2482</td>\n",
              "      <td>12100</td>\n",
              "      <td>nissan</td>\n",
              "      <td>altima</td>\n",
              "      <td>2019</td>\n",
              "      <td>clean vehicle</td>\n",
              "      <td>36974.0</td>\n",
              "      <td>gray</td>\n",
              "      <td>1n4bl4cv8kc157345</td>\n",
              "      <td>167722413</td>\n",
              "      <td>california</td>\n",
              "      <td>usa</td>\n",
              "      <td>1 days left</td>\n",
              "    </tr>\n",
              "    <tr>\n",
              "      <th>2483</th>\n",
              "      <td>2483</td>\n",
              "      <td>9200</td>\n",
              "      <td>nissan</td>\n",
              "      <td>versa</td>\n",
              "      <td>2018</td>\n",
              "      <td>clean vehicle</td>\n",
              "      <td>41220.0</td>\n",
              "      <td>black</td>\n",
              "      <td>3n1cn7ap6jl883130</td>\n",
              "      <td>167762213</td>\n",
              "      <td>florida</td>\n",
              "      <td>usa</td>\n",
              "      <td>21 hours left</td>\n",
              "    </tr>\n",
              "    <tr>\n",
              "      <th>2484</th>\n",
              "      <td>2484</td>\n",
              "      <td>2300</td>\n",
              "      <td>nissan</td>\n",
              "      <td>frontier</td>\n",
              "      <td>2019</td>\n",
              "      <td>clean vehicle</td>\n",
              "      <td>1.0</td>\n",
              "      <td>silver</td>\n",
              "      <td>1n6ad0ev9kn786557</td>\n",
              "      <td>167722414</td>\n",
              "      <td>california</td>\n",
              "      <td>usa</td>\n",
              "      <td>1 days left</td>\n",
              "    </tr>\n",
              "    <tr>\n",
              "      <th>2485</th>\n",
              "      <td>2485</td>\n",
              "      <td>13900</td>\n",
              "      <td>nissan</td>\n",
              "      <td>rogue</td>\n",
              "      <td>2018</td>\n",
              "      <td>clean vehicle</td>\n",
              "      <td>41539.0</td>\n",
              "      <td>black</td>\n",
              "      <td>knmat2mt4jp581250</td>\n",
              "      <td>167762214</td>\n",
              "      <td>florida</td>\n",
              "      <td>usa</td>\n",
              "      <td>21 hours left</td>\n",
              "    </tr>\n",
              "    <tr>\n",
              "      <th>2486</th>\n",
              "      <td>2486</td>\n",
              "      <td>9500</td>\n",
              "      <td>nissan</td>\n",
              "      <td>sentra</td>\n",
              "      <td>2019</td>\n",
              "      <td>clean vehicle</td>\n",
              "      <td>19646.0</td>\n",
              "      <td>black</td>\n",
              "      <td>3n1ab7ap4ky350343</td>\n",
              "      <td>167722605</td>\n",
              "      <td>california</td>\n",
              "      <td>usa</td>\n",
              "      <td>1 days left</td>\n",
              "    </tr>\n",
              "    <tr>\n",
              "      <th>2487</th>\n",
              "      <td>2487</td>\n",
              "      <td>13900</td>\n",
              "      <td>nissan</td>\n",
              "      <td>rogue</td>\n",
              "      <td>2018</td>\n",
              "      <td>clean vehicle</td>\n",
              "      <td>39924.0</td>\n",
              "      <td>white</td>\n",
              "      <td>knmat2mt6jp582092</td>\n",
              "      <td>167762218</td>\n",
              "      <td>florida</td>\n",
              "      <td>usa</td>\n",
              "      <td>21 hours left</td>\n",
              "    </tr>\n",
              "    <tr>\n",
              "      <th>2488</th>\n",
              "      <td>2488</td>\n",
              "      <td>1700</td>\n",
              "      <td>nissan</td>\n",
              "      <td>note</td>\n",
              "      <td>2019</td>\n",
              "      <td>clean vehicle</td>\n",
              "      <td>33279.0</td>\n",
              "      <td>red</td>\n",
              "      <td>3n1ce2cp0kl363331</td>\n",
              "      <td>167722697</td>\n",
              "      <td>california</td>\n",
              "      <td>usa</td>\n",
              "      <td>1 days left</td>\n",
              "    </tr>\n",
              "    <tr>\n",
              "      <th>2489</th>\n",
              "      <td>2489</td>\n",
              "      <td>13900</td>\n",
              "      <td>nissan</td>\n",
              "      <td>rogue</td>\n",
              "      <td>2018</td>\n",
              "      <td>clean vehicle</td>\n",
              "      <td>40259.0</td>\n",
              "      <td>gray</td>\n",
              "      <td>knmat2mt9jp582734</td>\n",
              "      <td>167762219</td>\n",
              "      <td>florida</td>\n",
              "      <td>usa</td>\n",
              "      <td>21 hours left</td>\n",
              "    </tr>\n",
              "    <tr>\n",
              "      <th>2490</th>\n",
              "      <td>2490</td>\n",
              "      <td>10400</td>\n",
              "      <td>nissan</td>\n",
              "      <td>sentra</td>\n",
              "      <td>2019</td>\n",
              "      <td>clean vehicle</td>\n",
              "      <td>25264.0</td>\n",
              "      <td>blue</td>\n",
              "      <td>3n1ab7ap4ky323241</td>\n",
              "      <td>167722702</td>\n",
              "      <td>california</td>\n",
              "      <td>usa</td>\n",
              "      <td>1 days left</td>\n",
              "    </tr>\n",
              "    <tr>\n",
              "      <th>2491</th>\n",
              "      <td>2491</td>\n",
              "      <td>9200</td>\n",
              "      <td>nissan</td>\n",
              "      <td>versa</td>\n",
              "      <td>2018</td>\n",
              "      <td>clean vehicle</td>\n",
              "      <td>35677.0</td>\n",
              "      <td>black</td>\n",
              "      <td>3n1cn7ap7jl882312</td>\n",
              "      <td>167762221</td>\n",
              "      <td>florida</td>\n",
              "      <td>usa</td>\n",
              "      <td>21 hours left</td>\n",
              "    </tr>\n",
              "    <tr>\n",
              "      <th>2492</th>\n",
              "      <td>2492</td>\n",
              "      <td>7400</td>\n",
              "      <td>nissan</td>\n",
              "      <td>versa</td>\n",
              "      <td>2019</td>\n",
              "      <td>clean vehicle</td>\n",
              "      <td>35511.0</td>\n",
              "      <td>black</td>\n",
              "      <td>3n1cn7ap5kl841811</td>\n",
              "      <td>167722706</td>\n",
              "      <td>california</td>\n",
              "      <td>usa</td>\n",
              "      <td>1 days left</td>\n",
              "    </tr>\n",
              "    <tr>\n",
              "      <th>2493</th>\n",
              "      <td>2493</td>\n",
              "      <td>9200</td>\n",
              "      <td>nissan</td>\n",
              "      <td>versa</td>\n",
              "      <td>2018</td>\n",
              "      <td>clean vehicle</td>\n",
              "      <td>33027.0</td>\n",
              "      <td>black</td>\n",
              "      <td>3n1cn7ap0jl883768</td>\n",
              "      <td>167762224</td>\n",
              "      <td>florida</td>\n",
              "      <td>usa</td>\n",
              "      <td>21 hours left</td>\n",
              "    </tr>\n",
              "    <tr>\n",
              "      <th>2494</th>\n",
              "      <td>2494</td>\n",
              "      <td>7800</td>\n",
              "      <td>nissan</td>\n",
              "      <td>versa</td>\n",
              "      <td>2019</td>\n",
              "      <td>clean vehicle</td>\n",
              "      <td>23609.0</td>\n",
              "      <td>red</td>\n",
              "      <td>3n1cn7ap9kl880319</td>\n",
              "      <td>167722715</td>\n",
              "      <td>california</td>\n",
              "      <td>usa</td>\n",
              "      <td>1 days left</td>\n",
              "    </tr>\n",
              "    <tr>\n",
              "      <th>2495</th>\n",
              "      <td>2495</td>\n",
              "      <td>9200</td>\n",
              "      <td>nissan</td>\n",
              "      <td>versa</td>\n",
              "      <td>2018</td>\n",
              "      <td>clean vehicle</td>\n",
              "      <td>34553.0</td>\n",
              "      <td>silver</td>\n",
              "      <td>3n1cn7ap5jl884088</td>\n",
              "      <td>167762225</td>\n",
              "      <td>florida</td>\n",
              "      <td>usa</td>\n",
              "      <td>21 hours left</td>\n",
              "    </tr>\n",
              "    <tr>\n",
              "      <th>2496</th>\n",
              "      <td>2496</td>\n",
              "      <td>9200</td>\n",
              "      <td>nissan</td>\n",
              "      <td>versa</td>\n",
              "      <td>2018</td>\n",
              "      <td>clean vehicle</td>\n",
              "      <td>31594.0</td>\n",
              "      <td>silver</td>\n",
              "      <td>3n1cn7ap9jl884191</td>\n",
              "      <td>167762226</td>\n",
              "      <td>florida</td>\n",
              "      <td>usa</td>\n",
              "      <td>21 hours left</td>\n",
              "    </tr>\n",
              "    <tr>\n",
              "      <th>2497</th>\n",
              "      <td>2497</td>\n",
              "      <td>9200</td>\n",
              "      <td>nissan</td>\n",
              "      <td>versa</td>\n",
              "      <td>2018</td>\n",
              "      <td>clean vehicle</td>\n",
              "      <td>32557.0</td>\n",
              "      <td>black</td>\n",
              "      <td>3n1cn7ap3jl883263</td>\n",
              "      <td>167762227</td>\n",
              "      <td>florida</td>\n",
              "      <td>usa</td>\n",
              "      <td>2 days left</td>\n",
              "    </tr>\n",
              "    <tr>\n",
              "      <th>2498</th>\n",
              "      <td>2498</td>\n",
              "      <td>9200</td>\n",
              "      <td>nissan</td>\n",
              "      <td>versa</td>\n",
              "      <td>2018</td>\n",
              "      <td>clean vehicle</td>\n",
              "      <td>31371.0</td>\n",
              "      <td>silver</td>\n",
              "      <td>3n1cn7ap4jl884311</td>\n",
              "      <td>167762228</td>\n",
              "      <td>florida</td>\n",
              "      <td>usa</td>\n",
              "      <td>21 hours left</td>\n",
              "    </tr>\n",
              "  </tbody>\n",
              "</table>\n",
              "<p>2499 rows × 13 columns</p>\n",
              "</div>"
            ],
            "text/plain": [
              "      Unnamed: 0  price      brand       model  year   title_status   mileage  \\\n",
              "0              0   6300     toyota     cruiser  2008  clean vehicle  274117.0   \n",
              "1              1   2899       ford          se  2011  clean vehicle  190552.0   \n",
              "2              2   5350      dodge         mpv  2018  clean vehicle   39590.0   \n",
              "3              3  25000       ford        door  2014  clean vehicle   64146.0   \n",
              "4              4  27700  chevrolet        1500  2018  clean vehicle    6654.0   \n",
              "5              5   5700      dodge         mpv  2018  clean vehicle   45561.0   \n",
              "6              6   7300  chevrolet          pk  2010  clean vehicle  149050.0   \n",
              "7              7  13350        gmc        door  2017  clean vehicle   23525.0   \n",
              "8              8  14600  chevrolet      malibu  2018  clean vehicle    9371.0   \n",
              "9              9   5250       ford         mpv  2017  clean vehicle   63418.0   \n",
              "10            10  10400      dodge       coupe  2009  clean vehicle  107856.0   \n",
              "11            11  12920        gmc         mpv  2017  clean vehicle   39650.0   \n",
              "12            12  31900  chevrolet        1500  2018  clean vehicle   22909.0   \n",
              "13            13   5430   chrysler       wagon  2017  clean vehicle  138650.0   \n",
              "14            14  20700       ford        door  2013  clean vehicle  100757.0   \n",
              "15            15  12710        gmc        door  2017  clean vehicle   25747.0   \n",
              "16            16   5200        kia       forte  2018  clean vehicle   46194.0   \n",
              "17            17  16500      buick      encore  2018  clean vehicle   20002.0   \n",
              "18            18   5210       ford         mpv  2017  clean vehicle   35714.0   \n",
              "19            19  38100       ford        door  2013  clean vehicle   54380.0   \n",
              "20            20  12520        gmc        door  2017  clean vehicle   30114.0   \n",
              "21            21   7300        kia       forte  2018  clean vehicle   38823.0   \n",
              "22            22  15000  chevrolet        door  2015  clean vehicle   61578.0   \n",
              "23            23   6180       ford         mpv  2017  clean vehicle   46010.0   \n",
              "24            24  20800       ford        door  2013  clean vehicle  105510.0   \n",
              "25            25  11900        gmc        door  2017  clean vehicle   28040.0   \n",
              "26            26  21500        kia     sorento  2020  clean vehicle   11451.0   \n",
              "27            27  12000      buick        door  2014  clean vehicle   31039.0   \n",
              "28            28   4190       ford       doors  2017  clean vehicle   44174.0   \n",
              "29            29  13000       ford     chassis  2008  clean vehicle   93698.0   \n",
              "...          ...    ...        ...         ...   ...            ...       ...   \n",
              "2469        2469  13900     nissan       rogue  2018  clean vehicle   34547.0   \n",
              "2470        2470   3700     nissan        door  2015  clean vehicle   75858.0   \n",
              "2471        2471  18800     nissan  pathfinder  2019  clean vehicle   31123.0   \n",
              "2472        2472   9200     nissan       versa  2018  clean vehicle   33808.0   \n",
              "2473        2473  30100     nissan       titan  2019  clean vehicle   30599.0   \n",
              "2474        2474   9200     nissan       versa  2018  clean vehicle   33931.0   \n",
              "2475        2475  11100     nissan      sentra  2019  clean vehicle   40359.0   \n",
              "2476        2476  13900     nissan       rogue  2018  clean vehicle   44313.0   \n",
              "2477        2477   9100     nissan       versa  2018  clean vehicle   33078.0   \n",
              "2478        2478  22800     nissan    frontier  2019  clean vehicle   24320.0   \n",
              "2479        2479  13900     nissan       rogue  2018  clean vehicle   42502.0   \n",
              "2480        2480  12600     nissan      altima  2019  clean vehicle   33497.0   \n",
              "2481        2481   9200     nissan       versa  2018  clean vehicle   39577.0   \n",
              "2482        2482  12100     nissan      altima  2019  clean vehicle   36974.0   \n",
              "2483        2483   9200     nissan       versa  2018  clean vehicle   41220.0   \n",
              "2484        2484   2300     nissan    frontier  2019  clean vehicle       1.0   \n",
              "2485        2485  13900     nissan       rogue  2018  clean vehicle   41539.0   \n",
              "2486        2486   9500     nissan      sentra  2019  clean vehicle   19646.0   \n",
              "2487        2487  13900     nissan       rogue  2018  clean vehicle   39924.0   \n",
              "2488        2488   1700     nissan        note  2019  clean vehicle   33279.0   \n",
              "2489        2489  13900     nissan       rogue  2018  clean vehicle   40259.0   \n",
              "2490        2490  10400     nissan      sentra  2019  clean vehicle   25264.0   \n",
              "2491        2491   9200     nissan       versa  2018  clean vehicle   35677.0   \n",
              "2492        2492   7400     nissan       versa  2019  clean vehicle   35511.0   \n",
              "2493        2493   9200     nissan       versa  2018  clean vehicle   33027.0   \n",
              "2494        2494   7800     nissan       versa  2019  clean vehicle   23609.0   \n",
              "2495        2495   9200     nissan       versa  2018  clean vehicle   34553.0   \n",
              "2496        2496   9200     nissan       versa  2018  clean vehicle   31594.0   \n",
              "2497        2497   9200     nissan       versa  2018  clean vehicle   32557.0   \n",
              "2498        2498   9200     nissan       versa  2018  clean vehicle   31371.0   \n",
              "\n",
              "       color                  vin        lot           state country  \\\n",
              "0      black    jtezu11f88k007763  159348797      new jersey     usa   \n",
              "1     silver    2fmdk3gc4bbb02217  166951262       tennessee     usa   \n",
              "2     silver    3c4pdcgg5jt346413  167655728         georgia     usa   \n",
              "3       blue    1ftfw1et4efc23745  167753855        virginia     usa   \n",
              "4        red    3gcpcrec2jg473991  167763266         florida     usa   \n",
              "5      white    2c4rdgeg9jr237989  167655771           texas     usa   \n",
              "6      black    1gcsksea1az121133  167753872         georgia     usa   \n",
              "7       gray    1gks2gkc3hr326762  167692494      california     usa   \n",
              "8     silver    1g1zd5st5jf191860  167763267         florida     usa   \n",
              "9      black    2fmpk3j92hbc12542  167656121           texas     usa   \n",
              "10    orange    2b3lj54t49h509675  167753874         georgia     usa   \n",
              "11     white    1gks2bkc6hr136280  167692496      california     usa   \n",
              "12     black    3gcukrec0jg176059  167763273       tennessee     usa   \n",
              "13      gray    2c4rc1cg5hr616095  167656123           texas     usa   \n",
              "14     black    1ftfw1et7dfa47790  167753916        virginia     usa   \n",
              "15     white    1gks2gkc6hr328389  167692497      california     usa   \n",
              "16      blue    3kpfk4a77je198723  167801757  north carolina     usa   \n",
              "17       red    kl4cj1sb6jb688844  167763275       tennessee     usa   \n",
              "18     white    2fmpk3j95hbb73607  167656124           texas     usa   \n",
              "19      gray    1ft8w3dt5deb68569  167753923        virginia     usa   \n",
              "20     white    1gks2gkcxhr328380  167692498      california     usa   \n",
              "21     black    3kpfl4a79je272611  167801773  north carolina     usa   \n",
              "22     black    2gnflhe33f6214023  167763280            ohio     usa   \n",
              "23      blue    2fmpk3j84hbc09276  167656125           texas     usa   \n",
              "24    silver    1ftfw1efxdfa01008  167753937        virginia     usa   \n",
              "25    silver    1gks2gkc2hr327918  167692503      california     usa   \n",
              "26      blue    5xypg4a59lg616029  167801828  north carolina     usa   \n",
              "27     brown    1g4ps5sk1e4188639  167763299            ohio     usa   \n",
              "28     white    1fadp5auxhl109013  167656126           texas     usa   \n",
              "29     white    1fdwf37r28eb95687  167754098       tennessee     usa   \n",
              "...      ...                  ...        ...             ...     ...   \n",
              "2469   white    knmat2mtxjp581687  167762118         florida     usa   \n",
              "2470  silver    3n1ab7ap4fy228278  167762173        illinois     usa   \n",
              "2471   white    5n1dr2mn9kc620299  167717945  north carolina     usa   \n",
              "2472   black    3n1cn7ap3jl883781  167762207         florida     usa   \n",
              "2473   black    1n6aa1e56kn519701  167718010  north carolina     usa   \n",
              "2474   black    3n1cn7ap5jl882616  167762208         florida     usa   \n",
              "2475   black    3n1ab7apxkl613545  167718011  north carolina     usa   \n",
              "2476   white    knmat2mt8jp581980  167762209         florida     usa   \n",
              "2477   black    3n1cn7ap0jl882846  167762210         florida     usa   \n",
              "2478   black    1n6ad0evxkn714086  167722343        illinois     usa   \n",
              "2479   black    knmat2mt3jp582048  167762211         florida     usa   \n",
              "2480    gray    1n4bl4cv1kc171832  167722410      california     usa   \n",
              "2481  silver    3n1cn7ap7jl883833  167762212         florida     usa   \n",
              "2482    gray    1n4bl4cv8kc157345  167722413      california     usa   \n",
              "2483   black    3n1cn7ap6jl883130  167762213         florida     usa   \n",
              "2484  silver    1n6ad0ev9kn786557  167722414      california     usa   \n",
              "2485   black    knmat2mt4jp581250  167762214         florida     usa   \n",
              "2486   black    3n1ab7ap4ky350343  167722605      california     usa   \n",
              "2487   white    knmat2mt6jp582092  167762218         florida     usa   \n",
              "2488     red    3n1ce2cp0kl363331  167722697      california     usa   \n",
              "2489    gray    knmat2mt9jp582734  167762219         florida     usa   \n",
              "2490    blue    3n1ab7ap4ky323241  167722702      california     usa   \n",
              "2491   black    3n1cn7ap7jl882312  167762221         florida     usa   \n",
              "2492   black    3n1cn7ap5kl841811  167722706      california     usa   \n",
              "2493   black    3n1cn7ap0jl883768  167762224         florida     usa   \n",
              "2494     red    3n1cn7ap9kl880319  167722715      california     usa   \n",
              "2495  silver    3n1cn7ap5jl884088  167762225         florida     usa   \n",
              "2496  silver    3n1cn7ap9jl884191  167762226         florida     usa   \n",
              "2497   black    3n1cn7ap3jl883263  167762227         florida     usa   \n",
              "2498  silver    3n1cn7ap4jl884311  167762228         florida     usa   \n",
              "\n",
              "          condition  \n",
              "0      10 days left  \n",
              "1       6 days left  \n",
              "2       2 days left  \n",
              "3     22 hours left  \n",
              "4     22 hours left  \n",
              "5       2 days left  \n",
              "6     22 hours left  \n",
              "7     20 hours left  \n",
              "8     22 hours left  \n",
              "9       2 days left  \n",
              "10    22 hours left  \n",
              "11    20 hours left  \n",
              "12    22 hours left  \n",
              "13      2 days left  \n",
              "14    22 hours left  \n",
              "15    20 hours left  \n",
              "16      2 days left  \n",
              "17    22 hours left  \n",
              "18      2 days left  \n",
              "19    22 hours left  \n",
              "20    20 hours left  \n",
              "21      2 days left  \n",
              "22      2 days left  \n",
              "23      2 days left  \n",
              "24    22 hours left  \n",
              "25    20 hours left  \n",
              "26      2 days left  \n",
              "27      2 days left  \n",
              "28      2 days left  \n",
              "29    22 hours left  \n",
              "...             ...  \n",
              "2469  21 hours left  \n",
              "2470    2 days left  \n",
              "2471  21 hours left  \n",
              "2472    2 days left  \n",
              "2473  21 hours left  \n",
              "2474    2 days left  \n",
              "2475  21 hours left  \n",
              "2476  21 hours left  \n",
              "2477  21 hours left  \n",
              "2478  21 hours left  \n",
              "2479  21 hours left  \n",
              "2480    1 days left  \n",
              "2481    2 days left  \n",
              "2482    1 days left  \n",
              "2483  21 hours left  \n",
              "2484    1 days left  \n",
              "2485  21 hours left  \n",
              "2486    1 days left  \n",
              "2487  21 hours left  \n",
              "2488    1 days left  \n",
              "2489  21 hours left  \n",
              "2490    1 days left  \n",
              "2491  21 hours left  \n",
              "2492    1 days left  \n",
              "2493  21 hours left  \n",
              "2494    1 days left  \n",
              "2495  21 hours left  \n",
              "2496  21 hours left  \n",
              "2497    2 days left  \n",
              "2498  21 hours left  \n",
              "\n",
              "[2499 rows x 13 columns]"
            ]
          },
          "metadata": {
            "tags": []
          },
          "execution_count": 37
        }
      ]
    },
    {
      "cell_type": "code",
      "metadata": {
        "id": "2tXrovDVkrcK",
        "colab_type": "code",
        "colab": {}
      },
      "source": [
        "#Removing the unnamed: 0 column \n",
        "data = data.drop(['Unnamed: 0'], axis = 1)"
      ],
      "execution_count": 0,
      "outputs": []
    },
    {
      "cell_type": "code",
      "metadata": {
        "id": "kk0-HVtjkrcR",
        "colab_type": "code",
        "colab": {},
        "outputId": "357223ba-6bf2-4ac2-f9c4-691a9d7d3d7f"
      },
      "source": [
        "data"
      ],
      "execution_count": 0,
      "outputs": [
        {
          "output_type": "execute_result",
          "data": {
            "text/html": [
              "<div>\n",
              "<style scoped>\n",
              "    .dataframe tbody tr th:only-of-type {\n",
              "        vertical-align: middle;\n",
              "    }\n",
              "\n",
              "    .dataframe tbody tr th {\n",
              "        vertical-align: top;\n",
              "    }\n",
              "\n",
              "    .dataframe thead th {\n",
              "        text-align: right;\n",
              "    }\n",
              "</style>\n",
              "<table border=\"1\" class=\"dataframe\">\n",
              "  <thead>\n",
              "    <tr style=\"text-align: right;\">\n",
              "      <th></th>\n",
              "      <th>price</th>\n",
              "      <th>brand</th>\n",
              "      <th>model</th>\n",
              "      <th>year</th>\n",
              "      <th>title_status</th>\n",
              "      <th>mileage</th>\n",
              "      <th>color</th>\n",
              "      <th>vin</th>\n",
              "      <th>lot</th>\n",
              "      <th>state</th>\n",
              "      <th>country</th>\n",
              "      <th>condition</th>\n",
              "    </tr>\n",
              "  </thead>\n",
              "  <tbody>\n",
              "    <tr>\n",
              "      <th>0</th>\n",
              "      <td>6300</td>\n",
              "      <td>toyota</td>\n",
              "      <td>cruiser</td>\n",
              "      <td>2008</td>\n",
              "      <td>clean vehicle</td>\n",
              "      <td>274117.0</td>\n",
              "      <td>black</td>\n",
              "      <td>jtezu11f88k007763</td>\n",
              "      <td>159348797</td>\n",
              "      <td>new jersey</td>\n",
              "      <td>usa</td>\n",
              "      <td>10 days left</td>\n",
              "    </tr>\n",
              "    <tr>\n",
              "      <th>1</th>\n",
              "      <td>2899</td>\n",
              "      <td>ford</td>\n",
              "      <td>se</td>\n",
              "      <td>2011</td>\n",
              "      <td>clean vehicle</td>\n",
              "      <td>190552.0</td>\n",
              "      <td>silver</td>\n",
              "      <td>2fmdk3gc4bbb02217</td>\n",
              "      <td>166951262</td>\n",
              "      <td>tennessee</td>\n",
              "      <td>usa</td>\n",
              "      <td>6 days left</td>\n",
              "    </tr>\n",
              "    <tr>\n",
              "      <th>2</th>\n",
              "      <td>5350</td>\n",
              "      <td>dodge</td>\n",
              "      <td>mpv</td>\n",
              "      <td>2018</td>\n",
              "      <td>clean vehicle</td>\n",
              "      <td>39590.0</td>\n",
              "      <td>silver</td>\n",
              "      <td>3c4pdcgg5jt346413</td>\n",
              "      <td>167655728</td>\n",
              "      <td>georgia</td>\n",
              "      <td>usa</td>\n",
              "      <td>2 days left</td>\n",
              "    </tr>\n",
              "    <tr>\n",
              "      <th>3</th>\n",
              "      <td>25000</td>\n",
              "      <td>ford</td>\n",
              "      <td>door</td>\n",
              "      <td>2014</td>\n",
              "      <td>clean vehicle</td>\n",
              "      <td>64146.0</td>\n",
              "      <td>blue</td>\n",
              "      <td>1ftfw1et4efc23745</td>\n",
              "      <td>167753855</td>\n",
              "      <td>virginia</td>\n",
              "      <td>usa</td>\n",
              "      <td>22 hours left</td>\n",
              "    </tr>\n",
              "    <tr>\n",
              "      <th>4</th>\n",
              "      <td>27700</td>\n",
              "      <td>chevrolet</td>\n",
              "      <td>1500</td>\n",
              "      <td>2018</td>\n",
              "      <td>clean vehicle</td>\n",
              "      <td>6654.0</td>\n",
              "      <td>red</td>\n",
              "      <td>3gcpcrec2jg473991</td>\n",
              "      <td>167763266</td>\n",
              "      <td>florida</td>\n",
              "      <td>usa</td>\n",
              "      <td>22 hours left</td>\n",
              "    </tr>\n",
              "    <tr>\n",
              "      <th>5</th>\n",
              "      <td>5700</td>\n",
              "      <td>dodge</td>\n",
              "      <td>mpv</td>\n",
              "      <td>2018</td>\n",
              "      <td>clean vehicle</td>\n",
              "      <td>45561.0</td>\n",
              "      <td>white</td>\n",
              "      <td>2c4rdgeg9jr237989</td>\n",
              "      <td>167655771</td>\n",
              "      <td>texas</td>\n",
              "      <td>usa</td>\n",
              "      <td>2 days left</td>\n",
              "    </tr>\n",
              "    <tr>\n",
              "      <th>6</th>\n",
              "      <td>7300</td>\n",
              "      <td>chevrolet</td>\n",
              "      <td>pk</td>\n",
              "      <td>2010</td>\n",
              "      <td>clean vehicle</td>\n",
              "      <td>149050.0</td>\n",
              "      <td>black</td>\n",
              "      <td>1gcsksea1az121133</td>\n",
              "      <td>167753872</td>\n",
              "      <td>georgia</td>\n",
              "      <td>usa</td>\n",
              "      <td>22 hours left</td>\n",
              "    </tr>\n",
              "    <tr>\n",
              "      <th>7</th>\n",
              "      <td>13350</td>\n",
              "      <td>gmc</td>\n",
              "      <td>door</td>\n",
              "      <td>2017</td>\n",
              "      <td>clean vehicle</td>\n",
              "      <td>23525.0</td>\n",
              "      <td>gray</td>\n",
              "      <td>1gks2gkc3hr326762</td>\n",
              "      <td>167692494</td>\n",
              "      <td>california</td>\n",
              "      <td>usa</td>\n",
              "      <td>20 hours left</td>\n",
              "    </tr>\n",
              "    <tr>\n",
              "      <th>8</th>\n",
              "      <td>14600</td>\n",
              "      <td>chevrolet</td>\n",
              "      <td>malibu</td>\n",
              "      <td>2018</td>\n",
              "      <td>clean vehicle</td>\n",
              "      <td>9371.0</td>\n",
              "      <td>silver</td>\n",
              "      <td>1g1zd5st5jf191860</td>\n",
              "      <td>167763267</td>\n",
              "      <td>florida</td>\n",
              "      <td>usa</td>\n",
              "      <td>22 hours left</td>\n",
              "    </tr>\n",
              "    <tr>\n",
              "      <th>9</th>\n",
              "      <td>5250</td>\n",
              "      <td>ford</td>\n",
              "      <td>mpv</td>\n",
              "      <td>2017</td>\n",
              "      <td>clean vehicle</td>\n",
              "      <td>63418.0</td>\n",
              "      <td>black</td>\n",
              "      <td>2fmpk3j92hbc12542</td>\n",
              "      <td>167656121</td>\n",
              "      <td>texas</td>\n",
              "      <td>usa</td>\n",
              "      <td>2 days left</td>\n",
              "    </tr>\n",
              "    <tr>\n",
              "      <th>10</th>\n",
              "      <td>10400</td>\n",
              "      <td>dodge</td>\n",
              "      <td>coupe</td>\n",
              "      <td>2009</td>\n",
              "      <td>clean vehicle</td>\n",
              "      <td>107856.0</td>\n",
              "      <td>orange</td>\n",
              "      <td>2b3lj54t49h509675</td>\n",
              "      <td>167753874</td>\n",
              "      <td>georgia</td>\n",
              "      <td>usa</td>\n",
              "      <td>22 hours left</td>\n",
              "    </tr>\n",
              "    <tr>\n",
              "      <th>11</th>\n",
              "      <td>12920</td>\n",
              "      <td>gmc</td>\n",
              "      <td>mpv</td>\n",
              "      <td>2017</td>\n",
              "      <td>clean vehicle</td>\n",
              "      <td>39650.0</td>\n",
              "      <td>white</td>\n",
              "      <td>1gks2bkc6hr136280</td>\n",
              "      <td>167692496</td>\n",
              "      <td>california</td>\n",
              "      <td>usa</td>\n",
              "      <td>20 hours left</td>\n",
              "    </tr>\n",
              "    <tr>\n",
              "      <th>12</th>\n",
              "      <td>31900</td>\n",
              "      <td>chevrolet</td>\n",
              "      <td>1500</td>\n",
              "      <td>2018</td>\n",
              "      <td>clean vehicle</td>\n",
              "      <td>22909.0</td>\n",
              "      <td>black</td>\n",
              "      <td>3gcukrec0jg176059</td>\n",
              "      <td>167763273</td>\n",
              "      <td>tennessee</td>\n",
              "      <td>usa</td>\n",
              "      <td>22 hours left</td>\n",
              "    </tr>\n",
              "    <tr>\n",
              "      <th>13</th>\n",
              "      <td>5430</td>\n",
              "      <td>chrysler</td>\n",
              "      <td>wagon</td>\n",
              "      <td>2017</td>\n",
              "      <td>clean vehicle</td>\n",
              "      <td>138650.0</td>\n",
              "      <td>gray</td>\n",
              "      <td>2c4rc1cg5hr616095</td>\n",
              "      <td>167656123</td>\n",
              "      <td>texas</td>\n",
              "      <td>usa</td>\n",
              "      <td>2 days left</td>\n",
              "    </tr>\n",
              "    <tr>\n",
              "      <th>14</th>\n",
              "      <td>20700</td>\n",
              "      <td>ford</td>\n",
              "      <td>door</td>\n",
              "      <td>2013</td>\n",
              "      <td>clean vehicle</td>\n",
              "      <td>100757.0</td>\n",
              "      <td>black</td>\n",
              "      <td>1ftfw1et7dfa47790</td>\n",
              "      <td>167753916</td>\n",
              "      <td>virginia</td>\n",
              "      <td>usa</td>\n",
              "      <td>22 hours left</td>\n",
              "    </tr>\n",
              "    <tr>\n",
              "      <th>15</th>\n",
              "      <td>12710</td>\n",
              "      <td>gmc</td>\n",
              "      <td>door</td>\n",
              "      <td>2017</td>\n",
              "      <td>clean vehicle</td>\n",
              "      <td>25747.0</td>\n",
              "      <td>white</td>\n",
              "      <td>1gks2gkc6hr328389</td>\n",
              "      <td>167692497</td>\n",
              "      <td>california</td>\n",
              "      <td>usa</td>\n",
              "      <td>20 hours left</td>\n",
              "    </tr>\n",
              "    <tr>\n",
              "      <th>16</th>\n",
              "      <td>5200</td>\n",
              "      <td>kia</td>\n",
              "      <td>forte</td>\n",
              "      <td>2018</td>\n",
              "      <td>clean vehicle</td>\n",
              "      <td>46194.0</td>\n",
              "      <td>blue</td>\n",
              "      <td>3kpfk4a77je198723</td>\n",
              "      <td>167801757</td>\n",
              "      <td>north carolina</td>\n",
              "      <td>usa</td>\n",
              "      <td>2 days left</td>\n",
              "    </tr>\n",
              "    <tr>\n",
              "      <th>17</th>\n",
              "      <td>16500</td>\n",
              "      <td>buick</td>\n",
              "      <td>encore</td>\n",
              "      <td>2018</td>\n",
              "      <td>clean vehicle</td>\n",
              "      <td>20002.0</td>\n",
              "      <td>red</td>\n",
              "      <td>kl4cj1sb6jb688844</td>\n",
              "      <td>167763275</td>\n",
              "      <td>tennessee</td>\n",
              "      <td>usa</td>\n",
              "      <td>22 hours left</td>\n",
              "    </tr>\n",
              "    <tr>\n",
              "      <th>18</th>\n",
              "      <td>5210</td>\n",
              "      <td>ford</td>\n",
              "      <td>mpv</td>\n",
              "      <td>2017</td>\n",
              "      <td>clean vehicle</td>\n",
              "      <td>35714.0</td>\n",
              "      <td>white</td>\n",
              "      <td>2fmpk3j95hbb73607</td>\n",
              "      <td>167656124</td>\n",
              "      <td>texas</td>\n",
              "      <td>usa</td>\n",
              "      <td>2 days left</td>\n",
              "    </tr>\n",
              "    <tr>\n",
              "      <th>19</th>\n",
              "      <td>38100</td>\n",
              "      <td>ford</td>\n",
              "      <td>door</td>\n",
              "      <td>2013</td>\n",
              "      <td>clean vehicle</td>\n",
              "      <td>54380.0</td>\n",
              "      <td>gray</td>\n",
              "      <td>1ft8w3dt5deb68569</td>\n",
              "      <td>167753923</td>\n",
              "      <td>virginia</td>\n",
              "      <td>usa</td>\n",
              "      <td>22 hours left</td>\n",
              "    </tr>\n",
              "    <tr>\n",
              "      <th>20</th>\n",
              "      <td>12520</td>\n",
              "      <td>gmc</td>\n",
              "      <td>door</td>\n",
              "      <td>2017</td>\n",
              "      <td>clean vehicle</td>\n",
              "      <td>30114.0</td>\n",
              "      <td>white</td>\n",
              "      <td>1gks2gkcxhr328380</td>\n",
              "      <td>167692498</td>\n",
              "      <td>california</td>\n",
              "      <td>usa</td>\n",
              "      <td>20 hours left</td>\n",
              "    </tr>\n",
              "    <tr>\n",
              "      <th>21</th>\n",
              "      <td>7300</td>\n",
              "      <td>kia</td>\n",
              "      <td>forte</td>\n",
              "      <td>2018</td>\n",
              "      <td>clean vehicle</td>\n",
              "      <td>38823.0</td>\n",
              "      <td>black</td>\n",
              "      <td>3kpfl4a79je272611</td>\n",
              "      <td>167801773</td>\n",
              "      <td>north carolina</td>\n",
              "      <td>usa</td>\n",
              "      <td>2 days left</td>\n",
              "    </tr>\n",
              "    <tr>\n",
              "      <th>22</th>\n",
              "      <td>15000</td>\n",
              "      <td>chevrolet</td>\n",
              "      <td>door</td>\n",
              "      <td>2015</td>\n",
              "      <td>clean vehicle</td>\n",
              "      <td>61578.0</td>\n",
              "      <td>black</td>\n",
              "      <td>2gnflhe33f6214023</td>\n",
              "      <td>167763280</td>\n",
              "      <td>ohio</td>\n",
              "      <td>usa</td>\n",
              "      <td>2 days left</td>\n",
              "    </tr>\n",
              "    <tr>\n",
              "      <th>23</th>\n",
              "      <td>6180</td>\n",
              "      <td>ford</td>\n",
              "      <td>mpv</td>\n",
              "      <td>2017</td>\n",
              "      <td>clean vehicle</td>\n",
              "      <td>46010.0</td>\n",
              "      <td>blue</td>\n",
              "      <td>2fmpk3j84hbc09276</td>\n",
              "      <td>167656125</td>\n",
              "      <td>texas</td>\n",
              "      <td>usa</td>\n",
              "      <td>2 days left</td>\n",
              "    </tr>\n",
              "    <tr>\n",
              "      <th>24</th>\n",
              "      <td>20800</td>\n",
              "      <td>ford</td>\n",
              "      <td>door</td>\n",
              "      <td>2013</td>\n",
              "      <td>clean vehicle</td>\n",
              "      <td>105510.0</td>\n",
              "      <td>silver</td>\n",
              "      <td>1ftfw1efxdfa01008</td>\n",
              "      <td>167753937</td>\n",
              "      <td>virginia</td>\n",
              "      <td>usa</td>\n",
              "      <td>22 hours left</td>\n",
              "    </tr>\n",
              "    <tr>\n",
              "      <th>25</th>\n",
              "      <td>11900</td>\n",
              "      <td>gmc</td>\n",
              "      <td>door</td>\n",
              "      <td>2017</td>\n",
              "      <td>clean vehicle</td>\n",
              "      <td>28040.0</td>\n",
              "      <td>silver</td>\n",
              "      <td>1gks2gkc2hr327918</td>\n",
              "      <td>167692503</td>\n",
              "      <td>california</td>\n",
              "      <td>usa</td>\n",
              "      <td>20 hours left</td>\n",
              "    </tr>\n",
              "    <tr>\n",
              "      <th>26</th>\n",
              "      <td>21500</td>\n",
              "      <td>kia</td>\n",
              "      <td>sorento</td>\n",
              "      <td>2020</td>\n",
              "      <td>clean vehicle</td>\n",
              "      <td>11451.0</td>\n",
              "      <td>blue</td>\n",
              "      <td>5xypg4a59lg616029</td>\n",
              "      <td>167801828</td>\n",
              "      <td>north carolina</td>\n",
              "      <td>usa</td>\n",
              "      <td>2 days left</td>\n",
              "    </tr>\n",
              "    <tr>\n",
              "      <th>27</th>\n",
              "      <td>12000</td>\n",
              "      <td>buick</td>\n",
              "      <td>door</td>\n",
              "      <td>2014</td>\n",
              "      <td>clean vehicle</td>\n",
              "      <td>31039.0</td>\n",
              "      <td>brown</td>\n",
              "      <td>1g4ps5sk1e4188639</td>\n",
              "      <td>167763299</td>\n",
              "      <td>ohio</td>\n",
              "      <td>usa</td>\n",
              "      <td>2 days left</td>\n",
              "    </tr>\n",
              "    <tr>\n",
              "      <th>28</th>\n",
              "      <td>4190</td>\n",
              "      <td>ford</td>\n",
              "      <td>doors</td>\n",
              "      <td>2017</td>\n",
              "      <td>clean vehicle</td>\n",
              "      <td>44174.0</td>\n",
              "      <td>white</td>\n",
              "      <td>1fadp5auxhl109013</td>\n",
              "      <td>167656126</td>\n",
              "      <td>texas</td>\n",
              "      <td>usa</td>\n",
              "      <td>2 days left</td>\n",
              "    </tr>\n",
              "    <tr>\n",
              "      <th>29</th>\n",
              "      <td>13000</td>\n",
              "      <td>ford</td>\n",
              "      <td>chassis</td>\n",
              "      <td>2008</td>\n",
              "      <td>clean vehicle</td>\n",
              "      <td>93698.0</td>\n",
              "      <td>white</td>\n",
              "      <td>1fdwf37r28eb95687</td>\n",
              "      <td>167754098</td>\n",
              "      <td>tennessee</td>\n",
              "      <td>usa</td>\n",
              "      <td>22 hours left</td>\n",
              "    </tr>\n",
              "    <tr>\n",
              "      <th>...</th>\n",
              "      <td>...</td>\n",
              "      <td>...</td>\n",
              "      <td>...</td>\n",
              "      <td>...</td>\n",
              "      <td>...</td>\n",
              "      <td>...</td>\n",
              "      <td>...</td>\n",
              "      <td>...</td>\n",
              "      <td>...</td>\n",
              "      <td>...</td>\n",
              "      <td>...</td>\n",
              "      <td>...</td>\n",
              "    </tr>\n",
              "    <tr>\n",
              "      <th>2469</th>\n",
              "      <td>13900</td>\n",
              "      <td>nissan</td>\n",
              "      <td>rogue</td>\n",
              "      <td>2018</td>\n",
              "      <td>clean vehicle</td>\n",
              "      <td>34547.0</td>\n",
              "      <td>white</td>\n",
              "      <td>knmat2mtxjp581687</td>\n",
              "      <td>167762118</td>\n",
              "      <td>florida</td>\n",
              "      <td>usa</td>\n",
              "      <td>21 hours left</td>\n",
              "    </tr>\n",
              "    <tr>\n",
              "      <th>2470</th>\n",
              "      <td>3700</td>\n",
              "      <td>nissan</td>\n",
              "      <td>door</td>\n",
              "      <td>2015</td>\n",
              "      <td>clean vehicle</td>\n",
              "      <td>75858.0</td>\n",
              "      <td>silver</td>\n",
              "      <td>3n1ab7ap4fy228278</td>\n",
              "      <td>167762173</td>\n",
              "      <td>illinois</td>\n",
              "      <td>usa</td>\n",
              "      <td>2 days left</td>\n",
              "    </tr>\n",
              "    <tr>\n",
              "      <th>2471</th>\n",
              "      <td>18800</td>\n",
              "      <td>nissan</td>\n",
              "      <td>pathfinder</td>\n",
              "      <td>2019</td>\n",
              "      <td>clean vehicle</td>\n",
              "      <td>31123.0</td>\n",
              "      <td>white</td>\n",
              "      <td>5n1dr2mn9kc620299</td>\n",
              "      <td>167717945</td>\n",
              "      <td>north carolina</td>\n",
              "      <td>usa</td>\n",
              "      <td>21 hours left</td>\n",
              "    </tr>\n",
              "    <tr>\n",
              "      <th>2472</th>\n",
              "      <td>9200</td>\n",
              "      <td>nissan</td>\n",
              "      <td>versa</td>\n",
              "      <td>2018</td>\n",
              "      <td>clean vehicle</td>\n",
              "      <td>33808.0</td>\n",
              "      <td>black</td>\n",
              "      <td>3n1cn7ap3jl883781</td>\n",
              "      <td>167762207</td>\n",
              "      <td>florida</td>\n",
              "      <td>usa</td>\n",
              "      <td>2 days left</td>\n",
              "    </tr>\n",
              "    <tr>\n",
              "      <th>2473</th>\n",
              "      <td>30100</td>\n",
              "      <td>nissan</td>\n",
              "      <td>titan</td>\n",
              "      <td>2019</td>\n",
              "      <td>clean vehicle</td>\n",
              "      <td>30599.0</td>\n",
              "      <td>black</td>\n",
              "      <td>1n6aa1e56kn519701</td>\n",
              "      <td>167718010</td>\n",
              "      <td>north carolina</td>\n",
              "      <td>usa</td>\n",
              "      <td>21 hours left</td>\n",
              "    </tr>\n",
              "    <tr>\n",
              "      <th>2474</th>\n",
              "      <td>9200</td>\n",
              "      <td>nissan</td>\n",
              "      <td>versa</td>\n",
              "      <td>2018</td>\n",
              "      <td>clean vehicle</td>\n",
              "      <td>33931.0</td>\n",
              "      <td>black</td>\n",
              "      <td>3n1cn7ap5jl882616</td>\n",
              "      <td>167762208</td>\n",
              "      <td>florida</td>\n",
              "      <td>usa</td>\n",
              "      <td>2 days left</td>\n",
              "    </tr>\n",
              "    <tr>\n",
              "      <th>2475</th>\n",
              "      <td>11100</td>\n",
              "      <td>nissan</td>\n",
              "      <td>sentra</td>\n",
              "      <td>2019</td>\n",
              "      <td>clean vehicle</td>\n",
              "      <td>40359.0</td>\n",
              "      <td>black</td>\n",
              "      <td>3n1ab7apxkl613545</td>\n",
              "      <td>167718011</td>\n",
              "      <td>north carolina</td>\n",
              "      <td>usa</td>\n",
              "      <td>21 hours left</td>\n",
              "    </tr>\n",
              "    <tr>\n",
              "      <th>2476</th>\n",
              "      <td>13900</td>\n",
              "      <td>nissan</td>\n",
              "      <td>rogue</td>\n",
              "      <td>2018</td>\n",
              "      <td>clean vehicle</td>\n",
              "      <td>44313.0</td>\n",
              "      <td>white</td>\n",
              "      <td>knmat2mt8jp581980</td>\n",
              "      <td>167762209</td>\n",
              "      <td>florida</td>\n",
              "      <td>usa</td>\n",
              "      <td>21 hours left</td>\n",
              "    </tr>\n",
              "    <tr>\n",
              "      <th>2477</th>\n",
              "      <td>9100</td>\n",
              "      <td>nissan</td>\n",
              "      <td>versa</td>\n",
              "      <td>2018</td>\n",
              "      <td>clean vehicle</td>\n",
              "      <td>33078.0</td>\n",
              "      <td>black</td>\n",
              "      <td>3n1cn7ap0jl882846</td>\n",
              "      <td>167762210</td>\n",
              "      <td>florida</td>\n",
              "      <td>usa</td>\n",
              "      <td>21 hours left</td>\n",
              "    </tr>\n",
              "    <tr>\n",
              "      <th>2478</th>\n",
              "      <td>22800</td>\n",
              "      <td>nissan</td>\n",
              "      <td>frontier</td>\n",
              "      <td>2019</td>\n",
              "      <td>clean vehicle</td>\n",
              "      <td>24320.0</td>\n",
              "      <td>black</td>\n",
              "      <td>1n6ad0evxkn714086</td>\n",
              "      <td>167722343</td>\n",
              "      <td>illinois</td>\n",
              "      <td>usa</td>\n",
              "      <td>21 hours left</td>\n",
              "    </tr>\n",
              "    <tr>\n",
              "      <th>2479</th>\n",
              "      <td>13900</td>\n",
              "      <td>nissan</td>\n",
              "      <td>rogue</td>\n",
              "      <td>2018</td>\n",
              "      <td>clean vehicle</td>\n",
              "      <td>42502.0</td>\n",
              "      <td>black</td>\n",
              "      <td>knmat2mt3jp582048</td>\n",
              "      <td>167762211</td>\n",
              "      <td>florida</td>\n",
              "      <td>usa</td>\n",
              "      <td>21 hours left</td>\n",
              "    </tr>\n",
              "    <tr>\n",
              "      <th>2480</th>\n",
              "      <td>12600</td>\n",
              "      <td>nissan</td>\n",
              "      <td>altima</td>\n",
              "      <td>2019</td>\n",
              "      <td>clean vehicle</td>\n",
              "      <td>33497.0</td>\n",
              "      <td>gray</td>\n",
              "      <td>1n4bl4cv1kc171832</td>\n",
              "      <td>167722410</td>\n",
              "      <td>california</td>\n",
              "      <td>usa</td>\n",
              "      <td>1 days left</td>\n",
              "    </tr>\n",
              "    <tr>\n",
              "      <th>2481</th>\n",
              "      <td>9200</td>\n",
              "      <td>nissan</td>\n",
              "      <td>versa</td>\n",
              "      <td>2018</td>\n",
              "      <td>clean vehicle</td>\n",
              "      <td>39577.0</td>\n",
              "      <td>silver</td>\n",
              "      <td>3n1cn7ap7jl883833</td>\n",
              "      <td>167762212</td>\n",
              "      <td>florida</td>\n",
              "      <td>usa</td>\n",
              "      <td>2 days left</td>\n",
              "    </tr>\n",
              "    <tr>\n",
              "      <th>2482</th>\n",
              "      <td>12100</td>\n",
              "      <td>nissan</td>\n",
              "      <td>altima</td>\n",
              "      <td>2019</td>\n",
              "      <td>clean vehicle</td>\n",
              "      <td>36974.0</td>\n",
              "      <td>gray</td>\n",
              "      <td>1n4bl4cv8kc157345</td>\n",
              "      <td>167722413</td>\n",
              "      <td>california</td>\n",
              "      <td>usa</td>\n",
              "      <td>1 days left</td>\n",
              "    </tr>\n",
              "    <tr>\n",
              "      <th>2483</th>\n",
              "      <td>9200</td>\n",
              "      <td>nissan</td>\n",
              "      <td>versa</td>\n",
              "      <td>2018</td>\n",
              "      <td>clean vehicle</td>\n",
              "      <td>41220.0</td>\n",
              "      <td>black</td>\n",
              "      <td>3n1cn7ap6jl883130</td>\n",
              "      <td>167762213</td>\n",
              "      <td>florida</td>\n",
              "      <td>usa</td>\n",
              "      <td>21 hours left</td>\n",
              "    </tr>\n",
              "    <tr>\n",
              "      <th>2484</th>\n",
              "      <td>2300</td>\n",
              "      <td>nissan</td>\n",
              "      <td>frontier</td>\n",
              "      <td>2019</td>\n",
              "      <td>clean vehicle</td>\n",
              "      <td>1.0</td>\n",
              "      <td>silver</td>\n",
              "      <td>1n6ad0ev9kn786557</td>\n",
              "      <td>167722414</td>\n",
              "      <td>california</td>\n",
              "      <td>usa</td>\n",
              "      <td>1 days left</td>\n",
              "    </tr>\n",
              "    <tr>\n",
              "      <th>2485</th>\n",
              "      <td>13900</td>\n",
              "      <td>nissan</td>\n",
              "      <td>rogue</td>\n",
              "      <td>2018</td>\n",
              "      <td>clean vehicle</td>\n",
              "      <td>41539.0</td>\n",
              "      <td>black</td>\n",
              "      <td>knmat2mt4jp581250</td>\n",
              "      <td>167762214</td>\n",
              "      <td>florida</td>\n",
              "      <td>usa</td>\n",
              "      <td>21 hours left</td>\n",
              "    </tr>\n",
              "    <tr>\n",
              "      <th>2486</th>\n",
              "      <td>9500</td>\n",
              "      <td>nissan</td>\n",
              "      <td>sentra</td>\n",
              "      <td>2019</td>\n",
              "      <td>clean vehicle</td>\n",
              "      <td>19646.0</td>\n",
              "      <td>black</td>\n",
              "      <td>3n1ab7ap4ky350343</td>\n",
              "      <td>167722605</td>\n",
              "      <td>california</td>\n",
              "      <td>usa</td>\n",
              "      <td>1 days left</td>\n",
              "    </tr>\n",
              "    <tr>\n",
              "      <th>2487</th>\n",
              "      <td>13900</td>\n",
              "      <td>nissan</td>\n",
              "      <td>rogue</td>\n",
              "      <td>2018</td>\n",
              "      <td>clean vehicle</td>\n",
              "      <td>39924.0</td>\n",
              "      <td>white</td>\n",
              "      <td>knmat2mt6jp582092</td>\n",
              "      <td>167762218</td>\n",
              "      <td>florida</td>\n",
              "      <td>usa</td>\n",
              "      <td>21 hours left</td>\n",
              "    </tr>\n",
              "    <tr>\n",
              "      <th>2488</th>\n",
              "      <td>1700</td>\n",
              "      <td>nissan</td>\n",
              "      <td>note</td>\n",
              "      <td>2019</td>\n",
              "      <td>clean vehicle</td>\n",
              "      <td>33279.0</td>\n",
              "      <td>red</td>\n",
              "      <td>3n1ce2cp0kl363331</td>\n",
              "      <td>167722697</td>\n",
              "      <td>california</td>\n",
              "      <td>usa</td>\n",
              "      <td>1 days left</td>\n",
              "    </tr>\n",
              "    <tr>\n",
              "      <th>2489</th>\n",
              "      <td>13900</td>\n",
              "      <td>nissan</td>\n",
              "      <td>rogue</td>\n",
              "      <td>2018</td>\n",
              "      <td>clean vehicle</td>\n",
              "      <td>40259.0</td>\n",
              "      <td>gray</td>\n",
              "      <td>knmat2mt9jp582734</td>\n",
              "      <td>167762219</td>\n",
              "      <td>florida</td>\n",
              "      <td>usa</td>\n",
              "      <td>21 hours left</td>\n",
              "    </tr>\n",
              "    <tr>\n",
              "      <th>2490</th>\n",
              "      <td>10400</td>\n",
              "      <td>nissan</td>\n",
              "      <td>sentra</td>\n",
              "      <td>2019</td>\n",
              "      <td>clean vehicle</td>\n",
              "      <td>25264.0</td>\n",
              "      <td>blue</td>\n",
              "      <td>3n1ab7ap4ky323241</td>\n",
              "      <td>167722702</td>\n",
              "      <td>california</td>\n",
              "      <td>usa</td>\n",
              "      <td>1 days left</td>\n",
              "    </tr>\n",
              "    <tr>\n",
              "      <th>2491</th>\n",
              "      <td>9200</td>\n",
              "      <td>nissan</td>\n",
              "      <td>versa</td>\n",
              "      <td>2018</td>\n",
              "      <td>clean vehicle</td>\n",
              "      <td>35677.0</td>\n",
              "      <td>black</td>\n",
              "      <td>3n1cn7ap7jl882312</td>\n",
              "      <td>167762221</td>\n",
              "      <td>florida</td>\n",
              "      <td>usa</td>\n",
              "      <td>21 hours left</td>\n",
              "    </tr>\n",
              "    <tr>\n",
              "      <th>2492</th>\n",
              "      <td>7400</td>\n",
              "      <td>nissan</td>\n",
              "      <td>versa</td>\n",
              "      <td>2019</td>\n",
              "      <td>clean vehicle</td>\n",
              "      <td>35511.0</td>\n",
              "      <td>black</td>\n",
              "      <td>3n1cn7ap5kl841811</td>\n",
              "      <td>167722706</td>\n",
              "      <td>california</td>\n",
              "      <td>usa</td>\n",
              "      <td>1 days left</td>\n",
              "    </tr>\n",
              "    <tr>\n",
              "      <th>2493</th>\n",
              "      <td>9200</td>\n",
              "      <td>nissan</td>\n",
              "      <td>versa</td>\n",
              "      <td>2018</td>\n",
              "      <td>clean vehicle</td>\n",
              "      <td>33027.0</td>\n",
              "      <td>black</td>\n",
              "      <td>3n1cn7ap0jl883768</td>\n",
              "      <td>167762224</td>\n",
              "      <td>florida</td>\n",
              "      <td>usa</td>\n",
              "      <td>21 hours left</td>\n",
              "    </tr>\n",
              "    <tr>\n",
              "      <th>2494</th>\n",
              "      <td>7800</td>\n",
              "      <td>nissan</td>\n",
              "      <td>versa</td>\n",
              "      <td>2019</td>\n",
              "      <td>clean vehicle</td>\n",
              "      <td>23609.0</td>\n",
              "      <td>red</td>\n",
              "      <td>3n1cn7ap9kl880319</td>\n",
              "      <td>167722715</td>\n",
              "      <td>california</td>\n",
              "      <td>usa</td>\n",
              "      <td>1 days left</td>\n",
              "    </tr>\n",
              "    <tr>\n",
              "      <th>2495</th>\n",
              "      <td>9200</td>\n",
              "      <td>nissan</td>\n",
              "      <td>versa</td>\n",
              "      <td>2018</td>\n",
              "      <td>clean vehicle</td>\n",
              "      <td>34553.0</td>\n",
              "      <td>silver</td>\n",
              "      <td>3n1cn7ap5jl884088</td>\n",
              "      <td>167762225</td>\n",
              "      <td>florida</td>\n",
              "      <td>usa</td>\n",
              "      <td>21 hours left</td>\n",
              "    </tr>\n",
              "    <tr>\n",
              "      <th>2496</th>\n",
              "      <td>9200</td>\n",
              "      <td>nissan</td>\n",
              "      <td>versa</td>\n",
              "      <td>2018</td>\n",
              "      <td>clean vehicle</td>\n",
              "      <td>31594.0</td>\n",
              "      <td>silver</td>\n",
              "      <td>3n1cn7ap9jl884191</td>\n",
              "      <td>167762226</td>\n",
              "      <td>florida</td>\n",
              "      <td>usa</td>\n",
              "      <td>21 hours left</td>\n",
              "    </tr>\n",
              "    <tr>\n",
              "      <th>2497</th>\n",
              "      <td>9200</td>\n",
              "      <td>nissan</td>\n",
              "      <td>versa</td>\n",
              "      <td>2018</td>\n",
              "      <td>clean vehicle</td>\n",
              "      <td>32557.0</td>\n",
              "      <td>black</td>\n",
              "      <td>3n1cn7ap3jl883263</td>\n",
              "      <td>167762227</td>\n",
              "      <td>florida</td>\n",
              "      <td>usa</td>\n",
              "      <td>2 days left</td>\n",
              "    </tr>\n",
              "    <tr>\n",
              "      <th>2498</th>\n",
              "      <td>9200</td>\n",
              "      <td>nissan</td>\n",
              "      <td>versa</td>\n",
              "      <td>2018</td>\n",
              "      <td>clean vehicle</td>\n",
              "      <td>31371.0</td>\n",
              "      <td>silver</td>\n",
              "      <td>3n1cn7ap4jl884311</td>\n",
              "      <td>167762228</td>\n",
              "      <td>florida</td>\n",
              "      <td>usa</td>\n",
              "      <td>21 hours left</td>\n",
              "    </tr>\n",
              "  </tbody>\n",
              "</table>\n",
              "<p>2499 rows × 12 columns</p>\n",
              "</div>"
            ],
            "text/plain": [
              "      price      brand       model  year   title_status   mileage   color  \\\n",
              "0      6300     toyota     cruiser  2008  clean vehicle  274117.0   black   \n",
              "1      2899       ford          se  2011  clean vehicle  190552.0  silver   \n",
              "2      5350      dodge         mpv  2018  clean vehicle   39590.0  silver   \n",
              "3     25000       ford        door  2014  clean vehicle   64146.0    blue   \n",
              "4     27700  chevrolet        1500  2018  clean vehicle    6654.0     red   \n",
              "5      5700      dodge         mpv  2018  clean vehicle   45561.0   white   \n",
              "6      7300  chevrolet          pk  2010  clean vehicle  149050.0   black   \n",
              "7     13350        gmc        door  2017  clean vehicle   23525.0    gray   \n",
              "8     14600  chevrolet      malibu  2018  clean vehicle    9371.0  silver   \n",
              "9      5250       ford         mpv  2017  clean vehicle   63418.0   black   \n",
              "10    10400      dodge       coupe  2009  clean vehicle  107856.0  orange   \n",
              "11    12920        gmc         mpv  2017  clean vehicle   39650.0   white   \n",
              "12    31900  chevrolet        1500  2018  clean vehicle   22909.0   black   \n",
              "13     5430   chrysler       wagon  2017  clean vehicle  138650.0    gray   \n",
              "14    20700       ford        door  2013  clean vehicle  100757.0   black   \n",
              "15    12710        gmc        door  2017  clean vehicle   25747.0   white   \n",
              "16     5200        kia       forte  2018  clean vehicle   46194.0    blue   \n",
              "17    16500      buick      encore  2018  clean vehicle   20002.0     red   \n",
              "18     5210       ford         mpv  2017  clean vehicle   35714.0   white   \n",
              "19    38100       ford        door  2013  clean vehicle   54380.0    gray   \n",
              "20    12520        gmc        door  2017  clean vehicle   30114.0   white   \n",
              "21     7300        kia       forte  2018  clean vehicle   38823.0   black   \n",
              "22    15000  chevrolet        door  2015  clean vehicle   61578.0   black   \n",
              "23     6180       ford         mpv  2017  clean vehicle   46010.0    blue   \n",
              "24    20800       ford        door  2013  clean vehicle  105510.0  silver   \n",
              "25    11900        gmc        door  2017  clean vehicle   28040.0  silver   \n",
              "26    21500        kia     sorento  2020  clean vehicle   11451.0    blue   \n",
              "27    12000      buick        door  2014  clean vehicle   31039.0   brown   \n",
              "28     4190       ford       doors  2017  clean vehicle   44174.0   white   \n",
              "29    13000       ford     chassis  2008  clean vehicle   93698.0   white   \n",
              "...     ...        ...         ...   ...            ...       ...     ...   \n",
              "2469  13900     nissan       rogue  2018  clean vehicle   34547.0   white   \n",
              "2470   3700     nissan        door  2015  clean vehicle   75858.0  silver   \n",
              "2471  18800     nissan  pathfinder  2019  clean vehicle   31123.0   white   \n",
              "2472   9200     nissan       versa  2018  clean vehicle   33808.0   black   \n",
              "2473  30100     nissan       titan  2019  clean vehicle   30599.0   black   \n",
              "2474   9200     nissan       versa  2018  clean vehicle   33931.0   black   \n",
              "2475  11100     nissan      sentra  2019  clean vehicle   40359.0   black   \n",
              "2476  13900     nissan       rogue  2018  clean vehicle   44313.0   white   \n",
              "2477   9100     nissan       versa  2018  clean vehicle   33078.0   black   \n",
              "2478  22800     nissan    frontier  2019  clean vehicle   24320.0   black   \n",
              "2479  13900     nissan       rogue  2018  clean vehicle   42502.0   black   \n",
              "2480  12600     nissan      altima  2019  clean vehicle   33497.0    gray   \n",
              "2481   9200     nissan       versa  2018  clean vehicle   39577.0  silver   \n",
              "2482  12100     nissan      altima  2019  clean vehicle   36974.0    gray   \n",
              "2483   9200     nissan       versa  2018  clean vehicle   41220.0   black   \n",
              "2484   2300     nissan    frontier  2019  clean vehicle       1.0  silver   \n",
              "2485  13900     nissan       rogue  2018  clean vehicle   41539.0   black   \n",
              "2486   9500     nissan      sentra  2019  clean vehicle   19646.0   black   \n",
              "2487  13900     nissan       rogue  2018  clean vehicle   39924.0   white   \n",
              "2488   1700     nissan        note  2019  clean vehicle   33279.0     red   \n",
              "2489  13900     nissan       rogue  2018  clean vehicle   40259.0    gray   \n",
              "2490  10400     nissan      sentra  2019  clean vehicle   25264.0    blue   \n",
              "2491   9200     nissan       versa  2018  clean vehicle   35677.0   black   \n",
              "2492   7400     nissan       versa  2019  clean vehicle   35511.0   black   \n",
              "2493   9200     nissan       versa  2018  clean vehicle   33027.0   black   \n",
              "2494   7800     nissan       versa  2019  clean vehicle   23609.0     red   \n",
              "2495   9200     nissan       versa  2018  clean vehicle   34553.0  silver   \n",
              "2496   9200     nissan       versa  2018  clean vehicle   31594.0  silver   \n",
              "2497   9200     nissan       versa  2018  clean vehicle   32557.0   black   \n",
              "2498   9200     nissan       versa  2018  clean vehicle   31371.0  silver   \n",
              "\n",
              "                      vin        lot           state country      condition  \n",
              "0       jtezu11f88k007763  159348797      new jersey     usa   10 days left  \n",
              "1       2fmdk3gc4bbb02217  166951262       tennessee     usa    6 days left  \n",
              "2       3c4pdcgg5jt346413  167655728         georgia     usa    2 days left  \n",
              "3       1ftfw1et4efc23745  167753855        virginia     usa  22 hours left  \n",
              "4       3gcpcrec2jg473991  167763266         florida     usa  22 hours left  \n",
              "5       2c4rdgeg9jr237989  167655771           texas     usa    2 days left  \n",
              "6       1gcsksea1az121133  167753872         georgia     usa  22 hours left  \n",
              "7       1gks2gkc3hr326762  167692494      california     usa  20 hours left  \n",
              "8       1g1zd5st5jf191860  167763267         florida     usa  22 hours left  \n",
              "9       2fmpk3j92hbc12542  167656121           texas     usa    2 days left  \n",
              "10      2b3lj54t49h509675  167753874         georgia     usa  22 hours left  \n",
              "11      1gks2bkc6hr136280  167692496      california     usa  20 hours left  \n",
              "12      3gcukrec0jg176059  167763273       tennessee     usa  22 hours left  \n",
              "13      2c4rc1cg5hr616095  167656123           texas     usa    2 days left  \n",
              "14      1ftfw1et7dfa47790  167753916        virginia     usa  22 hours left  \n",
              "15      1gks2gkc6hr328389  167692497      california     usa  20 hours left  \n",
              "16      3kpfk4a77je198723  167801757  north carolina     usa    2 days left  \n",
              "17      kl4cj1sb6jb688844  167763275       tennessee     usa  22 hours left  \n",
              "18      2fmpk3j95hbb73607  167656124           texas     usa    2 days left  \n",
              "19      1ft8w3dt5deb68569  167753923        virginia     usa  22 hours left  \n",
              "20      1gks2gkcxhr328380  167692498      california     usa  20 hours left  \n",
              "21      3kpfl4a79je272611  167801773  north carolina     usa    2 days left  \n",
              "22      2gnflhe33f6214023  167763280            ohio     usa    2 days left  \n",
              "23      2fmpk3j84hbc09276  167656125           texas     usa    2 days left  \n",
              "24      1ftfw1efxdfa01008  167753937        virginia     usa  22 hours left  \n",
              "25      1gks2gkc2hr327918  167692503      california     usa  20 hours left  \n",
              "26      5xypg4a59lg616029  167801828  north carolina     usa    2 days left  \n",
              "27      1g4ps5sk1e4188639  167763299            ohio     usa    2 days left  \n",
              "28      1fadp5auxhl109013  167656126           texas     usa    2 days left  \n",
              "29      1fdwf37r28eb95687  167754098       tennessee     usa  22 hours left  \n",
              "...                   ...        ...             ...     ...            ...  \n",
              "2469    knmat2mtxjp581687  167762118         florida     usa  21 hours left  \n",
              "2470    3n1ab7ap4fy228278  167762173        illinois     usa    2 days left  \n",
              "2471    5n1dr2mn9kc620299  167717945  north carolina     usa  21 hours left  \n",
              "2472    3n1cn7ap3jl883781  167762207         florida     usa    2 days left  \n",
              "2473    1n6aa1e56kn519701  167718010  north carolina     usa  21 hours left  \n",
              "2474    3n1cn7ap5jl882616  167762208         florida     usa    2 days left  \n",
              "2475    3n1ab7apxkl613545  167718011  north carolina     usa  21 hours left  \n",
              "2476    knmat2mt8jp581980  167762209         florida     usa  21 hours left  \n",
              "2477    3n1cn7ap0jl882846  167762210         florida     usa  21 hours left  \n",
              "2478    1n6ad0evxkn714086  167722343        illinois     usa  21 hours left  \n",
              "2479    knmat2mt3jp582048  167762211         florida     usa  21 hours left  \n",
              "2480    1n4bl4cv1kc171832  167722410      california     usa    1 days left  \n",
              "2481    3n1cn7ap7jl883833  167762212         florida     usa    2 days left  \n",
              "2482    1n4bl4cv8kc157345  167722413      california     usa    1 days left  \n",
              "2483    3n1cn7ap6jl883130  167762213         florida     usa  21 hours left  \n",
              "2484    1n6ad0ev9kn786557  167722414      california     usa    1 days left  \n",
              "2485    knmat2mt4jp581250  167762214         florida     usa  21 hours left  \n",
              "2486    3n1ab7ap4ky350343  167722605      california     usa    1 days left  \n",
              "2487    knmat2mt6jp582092  167762218         florida     usa  21 hours left  \n",
              "2488    3n1ce2cp0kl363331  167722697      california     usa    1 days left  \n",
              "2489    knmat2mt9jp582734  167762219         florida     usa  21 hours left  \n",
              "2490    3n1ab7ap4ky323241  167722702      california     usa    1 days left  \n",
              "2491    3n1cn7ap7jl882312  167762221         florida     usa  21 hours left  \n",
              "2492    3n1cn7ap5kl841811  167722706      california     usa    1 days left  \n",
              "2493    3n1cn7ap0jl883768  167762224         florida     usa  21 hours left  \n",
              "2494    3n1cn7ap9kl880319  167722715      california     usa    1 days left  \n",
              "2495    3n1cn7ap5jl884088  167762225         florida     usa  21 hours left  \n",
              "2496    3n1cn7ap9jl884191  167762226         florida     usa  21 hours left  \n",
              "2497    3n1cn7ap3jl883263  167762227         florida     usa    2 days left  \n",
              "2498    3n1cn7ap4jl884311  167762228         florida     usa  21 hours left  \n",
              "\n",
              "[2499 rows x 12 columns]"
            ]
          },
          "metadata": {
            "tags": []
          },
          "execution_count": 5
        }
      ]
    },
    {
      "cell_type": "code",
      "metadata": {
        "id": "q0ao8x4KkrcY",
        "colab_type": "code",
        "colab": {},
        "outputId": "3fc51420-edd1-425c-b0ea-25ccbee8b6b1"
      },
      "source": [
        "#Exploring the dataset information\n",
        "data.info()"
      ],
      "execution_count": 0,
      "outputs": [
        {
          "output_type": "stream",
          "text": [
            "<class 'pandas.core.frame.DataFrame'>\n",
            "RangeIndex: 2499 entries, 0 to 2498\n",
            "Data columns (total 12 columns):\n",
            "price           2499 non-null int64\n",
            "brand           2499 non-null object\n",
            "model           2499 non-null object\n",
            "year            2499 non-null int64\n",
            "title_status    2499 non-null object\n",
            "mileage         2499 non-null float64\n",
            "color           2499 non-null object\n",
            "vin             2499 non-null object\n",
            "lot             2499 non-null int64\n",
            "state           2499 non-null object\n",
            "country         2499 non-null object\n",
            "condition       2499 non-null object\n",
            "dtypes: float64(1), int64(3), object(8)\n",
            "memory usage: 234.4+ KB\n"
          ],
          "name": "stdout"
        }
      ]
    },
    {
      "cell_type": "code",
      "metadata": {
        "id": "rG2hQwW4krce",
        "colab_type": "code",
        "colab": {},
        "outputId": "fd8d4e0f-9057-44e0-afbd-35f993f67db3"
      },
      "source": [
        "#checking dimension of dataset\n",
        "data.shape"
      ],
      "execution_count": 0,
      "outputs": [
        {
          "output_type": "execute_result",
          "data": {
            "text/plain": [
              "(2499, 12)"
            ]
          },
          "metadata": {
            "tags": []
          },
          "execution_count": 7
        }
      ]
    },
    {
      "cell_type": "code",
      "metadata": {
        "id": "vP9X9yxXkrcj",
        "colab_type": "code",
        "colab": {},
        "outputId": "31314153-4710-40b4-906f-23f2002f0e91"
      },
      "source": [
        "#importing library for visualising dataset and plotting the  histogram for  price attributes\n",
        "import seaborn as sns\n",
        "data['price'].hist(grid = False)"
      ],
      "execution_count": 0,
      "outputs": [
        {
          "output_type": "execute_result",
          "data": {
            "text/plain": [
              "<matplotlib.axes._subplots.AxesSubplot at 0x1dee79edb38>"
            ]
          },
          "metadata": {
            "tags": []
          },
          "execution_count": 9
        },
        {
          "output_type": "display_data",
          "data": {
            "image/png": "[encoded data removed]",
            "text/plain": [
              "<Figure size 432x288 with 1 Axes>"
            ]
          },
          "metadata": {
            "tags": [],
            "needs_background": "light"
          }
        }
      ]
    },
    {
      "cell_type": "code",
      "metadata": {
        "id": "-G5ePsQSkrcq",
        "colab_type": "code",
        "colab": {},
        "outputId": "63ae54a9-e9fc-4397-82e9-d0bd027a3adb"
      },
      "source": [
        "# Checking the skewness of Price column of dataset\n",
        "data['price'].skew()"
      ],
      "execution_count": 0,
      "outputs": [
        {
          "output_type": "execute_result",
          "data": {
            "text/plain": [
              "0.9227307836499805"
            ]
          },
          "metadata": {
            "tags": []
          },
          "execution_count": 10
        }
      ]
    },
    {
      "cell_type": "code",
      "metadata": {
        "id": "28DWXVKJkrcw",
        "colab_type": "code",
        "colab": {},
        "outputId": "5b1327a2-e00e-476b-e4fa-b1f10a93b0e4"
      },
      "source": [
        "#density plot\n",
        "sns.distplot(data['price'], hist = True)"
      ],
      "execution_count": 0,
      "outputs": [
        {
          "output_type": "execute_result",
          "data": {
            "text/plain": [
              "<matplotlib.axes._subplots.AxesSubplot at 0x1dee8a0a048>"
            ]
          },
          "metadata": {
            "tags": []
          },
          "execution_count": 11
        },
        {
          "output_type": "display_data",
          "data": {
            "image/png": "[encoded data removed]",
            "text/plain": [
              "<Figure size 432x288 with 1 Axes>"
            ]
          },
          "metadata": {
            "tags": [],
            "needs_background": "light"
          }
        }
      ]
    },
    {
      "cell_type": "markdown",
      "metadata": {
        "id": "6kbQgXy5krc2",
        "colab_type": "text"
      },
      "source": [
        "__Note:__ As we can see the skewed values lies between the 0.5 to 1 range. so, data is moderately skewed and right skewed(but it's fine to train the model with it). Let's explore another attribute."
      ]
    },
    {
      "cell_type": "code",
      "metadata": {
        "id": "oy2w8W5mkrc3",
        "colab_type": "code",
        "colab": {},
        "outputId": "d1146e7f-6ba3-4cd1-bc57-3031e10726b0"
      },
      "source": [
        "# Checking the skewness of mileage column of dataset\n",
        "data['mileage'].skew()   "
      ],
      "execution_count": 0,
      "outputs": [
        {
          "output_type": "execute_result",
          "data": {
            "text/plain": [
              "7.0793210165347915"
            ]
          },
          "metadata": {
            "tags": []
          },
          "execution_count": 12
        }
      ]
    },
    {
      "cell_type": "code",
      "metadata": {
        "id": "tqsWyEOjkrc8",
        "colab_type": "code",
        "colab": {},
        "outputId": "5736449d-8962-4460-d2c4-4db5ebb35fa5"
      },
      "source": [
        "sns.distplot(data['mileage'], hist = True)"
      ],
      "execution_count": 0,
      "outputs": [
        {
          "output_type": "execute_result",
          "data": {
            "text/plain": [
              "<matplotlib.axes._subplots.AxesSubplot at 0x1dee8b2fa20>"
            ]
          },
          "metadata": {
            "tags": []
          },
          "execution_count": 13
        },
        {
          "output_type": "display_data",
          "data": {
            "image/png": "[encoded data removed]",
            "text/plain": [
              "<Figure size 432x288 with 1 Axes>"
            ]
          },
          "metadata": {
            "tags": [],
            "needs_background": "light"
          }
        }
      ]
    },
    {
      "cell_type": "markdown",
      "metadata": {
        "id": "gRf1p0MxkrdC",
        "colab_type": "text"
      },
      "source": [
        "__Note:__ As we can see the skewed values lies between -1 and greater than +1 then our data is heavily skewed. so, data is heavily skewed. data['mileage'] is right skewed by looking at the graph and skewed values."
      ]
    },
    {
      "cell_type": "markdown",
      "metadata": {
        "id": "HTvUrhvLkrdD",
        "colab_type": "text"
      },
      "source": [
        "## How to handle these skewed data?\n",
        "\n",
        "### Transformation\n",
        "In data analysis transformation is the replacement of a variable by a function of that variable: for example, replacing a variable x by the square root of x or the logarithm of x. In a stronger sense, a transformation is a replacement that changes the shape of a distribution or relationship."
      ]
    },
    {
      "cell_type": "markdown",
      "metadata": {
        "id": "uz9E5cyIkrdD",
        "colab_type": "text"
      },
      "source": [
        "## Steps to do transformation\n",
        "\n",
        "__1.__  Draw a graph(histogram and density plot) of the data to see how far patterns in data match the simplest ideal patterns.\n",
        "\n",
        "    \n",
        "__2.__ check the range the data. because Transformations will have little effect if the range is small.\n",
        "\n",
        "__3.__ check the skewness by statistical methods(decide right and left skweness).\n",
        "\n",
        "__4.__ apply the methods (explained in detail below) to handle the skewness based on the skewed values."
      ]
    },
    {
      "cell_type": "markdown",
      "metadata": {
        "id": "AqCYzCypkrdE",
        "colab_type": "text"
      },
      "source": [
        "### Reasons for using transformations\n",
        "\n",
        "There are many reasons for transformation. \n",
        "\n",
        "        1. Convenience\n",
        "        2. Reducing skewness\n",
        "        3. Equal spreads\n",
        "        4. Linear relationships\n",
        "        5. Additive relationships\n",
        "\n",
        "__1. Convenience:__ A transformed scale may be as natural as the original scale and more convenient for a specific purpose.\n",
        "    for example- percentage rather than the original data.\n",
        "    \n",
        "__2. Reducing skewness:__ A transformation may be used to reduce skewness.  A distribution that is symmetric or nearly so is often easier to handle and interpret than a skewed distribution. \n",
        "    \n",
        "        - To handle the right skewness, we use:\n",
        "                - logarithms (best for it)\n",
        "                - roots[square root and cube root] (good)\n",
        "                - reciprocals (weak)\n",
        "    \n",
        "        - To handle left skewness, we use:\n",
        "                - squares \n",
        "                - cubes\n",
        "                - higher powers.\n",
        " \n",
        "__3. Equal spreads:__ A transformation may be used to produce approximately equal spreads, despite marked variations in level, which again makes data easier to __handle and interpret__. Each data set or subset having about the same spread or variability is a condition called __homoscedasticity__ and it's opposite is called __heteroscedasticity__\n",
        "\n",
        "\n",
        "__4. Linear relationships:__ When looking at relationships between variables,it is often far easier to think about patterns that are approximately linear than about patterns that are highly curved. This is vitally important when using linear regression, which amounts to fitting such patterns to data.\n",
        "\n",
        "__5. Additive relationships__ Relationships are often easier to analyse when additive rather than (say) multiplicative. So\n",
        "\n",
        "        y = a + bx\n",
        "\n",
        "In which two terms __a__ and __bx__ are added is easier to deal with, than\n",
        "\n",
        "\n",
        "        y = ax^b\n",
        "\n",
        "In which two terms __a__ and __x^b__ are multiplied. Additivity is a vital issue in analysis of variance (in Stata, anova, oneway, etc.).\n",
        "\n"
      ]
    },
    {
      "cell_type": "markdown",
      "metadata": {
        "id": "OlpX0w1ZkrdF",
        "colab_type": "text"
      },
      "source": [
        "### To Handle Right Skeweness"
      ]
    },
    {
      "cell_type": "markdown",
      "metadata": {
        "id": "ASu6zduxkrdG",
        "colab_type": "text"
      },
      "source": [
        "###  1. log Transformation\n",
        "\n",
        "The log transformation is widely used in research to deal with skewed data. It is the best method to handle the right skewed data."
      ]
    },
    {
      "cell_type": "markdown",
      "metadata": {
        "id": "fBXKbWF8krdK",
        "colab_type": "text"
      },
      "source": [
        "### Why log? \n",
        "\n",
        "* The normal distribution is widely used in basic research studies to model continuous outcomes. Unfortunately, the symmetric bell-shaped distribution often does not adequately describe the observed data from research projects. Quite often data arising in real studies are so skewed that standard statistical analyses of these data yield invalid results. \n",
        "\n",
        "* Many methods have been developed to test the normality assumption of observed data. When the distribution of the continuous data is non-normal, transformations of data are applied to make the data as __\"normal\"__ as possible and, thus, __increase the validity of the associated statistical analyses.__\n",
        "\n",
        "* Popular use of the log transformation is to __reduce the variability of data__, especially in data sets that include outlying observations. Again, contrary to this popular belief, log transformation can often __increase – not reduce – the variability of data whether or not there are outliers.__\n",
        "\n",
        "### Why not?\n",
        "\n",
        "* Using transformations in general and log transformation in particular can be quite problematic. If such an approach is used, the researcher must be mindful about its limitations, particularly when interpreting the relevance of the analysis of transformed data for the hypothesis of interest about the original data."
      ]
    },
    {
      "cell_type": "code",
      "metadata": {
        "id": "Wt-md3KPkrdK",
        "colab_type": "code",
        "colab": {},
        "outputId": "eb18f789-193a-4b17-c194-7e0fff0a6881"
      },
      "source": [
        "#performing the log transformation using numpy\n",
        "log_mileage = np.log(data['mileage'])\n",
        "log_mileage"
      ],
      "execution_count": 0,
      "outputs": [
        {
          "output_type": "stream",
          "text": [
            "C:\\ProgramData\\Anaconda3\\lib\\site-packages\\ipykernel_launcher.py:2: RuntimeWarning: divide by zero encountered in log\n",
            "  \n"
          ],
          "name": "stderr"
        },
        {
          "output_type": "execute_result",
          "data": {
            "text/plain": [
              "0       12.521310\n",
              "1       12.157680\n",
              "2       10.586332\n",
              "3       11.068917\n",
              "4        8.802973\n",
              "5       10.726807\n",
              "6       11.912037\n",
              "7       10.065819\n",
              "8        9.145375\n",
              "9       11.057503\n",
              "10      11.588552\n",
              "11      10.587846\n",
              "12      10.039285\n",
              "13      11.839708\n",
              "14      11.520467\n",
              "15      10.156073\n",
              "16      10.740605\n",
              "17       9.903588\n",
              "18      10.483298\n",
              "19      10.903752\n",
              "20      10.312745\n",
              "21      10.566768\n",
              "22      11.028060\n",
              "23      10.736614\n",
              "24      11.566561\n",
              "25      10.241387\n",
              "26       9.345832\n",
              "27      10.343000\n",
              "28      10.695892\n",
              "29      11.447832\n",
              "          ...    \n",
              "2469    10.450076\n",
              "2470    11.236618\n",
              "2471    10.345702\n",
              "2472    10.428453\n",
              "2473    10.328723\n",
              "2474    10.432084\n",
              "2475    10.605570\n",
              "2476    10.699033\n",
              "2477    10.406624\n",
              "2478    10.099054\n",
              "2479    10.657306\n",
              "2480    10.419211\n",
              "2481    10.586003\n",
              "2482    10.517970\n",
              "2483    10.626679\n",
              "2484     0.000000\n",
              "2485    10.634388\n",
              "2486     9.885629\n",
              "2487    10.594733\n",
              "2488    10.412682\n",
              "2489    10.603089\n",
              "2490    10.137136\n",
              "2491    10.482262\n",
              "2492    10.477598\n",
              "2493    10.405081\n",
              "2494    10.069383\n",
              "2495    10.450250\n",
              "2496    10.360723\n",
              "2497    10.390748\n",
              "2498    10.353639\n",
              "Name: mileage, Length: 2499, dtype: float64"
            ]
          },
          "metadata": {
            "tags": []
          },
          "execution_count": 14
        }
      ]
    },
    {
      "cell_type": "code",
      "metadata": {
        "id": "46beMiwqkrdR",
        "colab_type": "code",
        "colab": {},
        "outputId": "49ab10d9-fc27-4f3f-ea52-a6e53a4580f9"
      },
      "source": [
        "#checking the skewness after the log-transformation\n",
        "log_mileage.skew()"
      ],
      "execution_count": 0,
      "outputs": [
        {
          "output_type": "execute_result",
          "data": {
            "text/plain": [
              "nan"
            ]
          },
          "metadata": {
            "tags": []
          },
          "execution_count": 15
        }
      ]
    },
    {
      "cell_type": "markdown",
      "metadata": {
        "id": "SjJjmI3MkrdW",
        "colab_type": "text"
      },
      "source": [
        "It's giving us __nan__ because there are some values as the zero. In log transformation, it deals with only the positive and negative numbers not with zero. The log is range in between (- infinity to infinity) but greater or less than zero. For better understanding you can check the log graph below:\n",
        "\n",
        "![log10.png](attachment:log10.png)\n",
        "\n",
        "__Note:__ In the graph, the line at zero is deviated towards the positive infinity. so, If you are getting zeros inside the data, refer root Transformation."
      ]
    },
    {
      "cell_type": "markdown",
      "metadata": {
        "id": "IUB8aq20krdW",
        "colab_type": "text"
      },
      "source": [
        "### 2. Root Transformation\n",
        "\n",
        "#### 2.1 Square root Transfomation"
      ]
    },
    {
      "cell_type": "markdown",
      "metadata": {
        "id": "BJ6JCYHHkrdX",
        "colab_type": "text"
      },
      "source": [
        "* The square root means __x__ to __x^(1/2)__ = __sqrt(x)__, is a transformation with a moderate effect on distribution shape. it is __weaker than the logarithm and the cube root__. \n",
        "\n",
        "* It is also used for reducing right skewness, and also has the advantage that it can be __applied to zero values__. \n",
        "\n",
        "* Note that the square root of an area has the units of a length. It is commonly applied to counted data, especially if the values are mostly rather small."
      ]
    },
    {
      "cell_type": "code",
      "metadata": {
        "id": "I_dG9TTfkrdY",
        "colab_type": "code",
        "colab": {},
        "outputId": "9c7a9ce7-bf9c-499e-a823-9be292c97de5"
      },
      "source": [
        "#calculating the square root for data['mileage'] column\n",
        "sqrt_mileage = np.sqrt(data['mileage'])\n",
        "sqrt_mileage"
      ],
      "execution_count": 0,
      "outputs": [
        {
          "output_type": "execute_result",
          "data": {
            "text/plain": [
              "0       523.561840\n",
              "1       436.522623\n",
              "2       198.972360\n",
              "3       253.270606\n",
              "4        81.572054\n",
              "5       213.450228\n",
              "6       386.069942\n",
              "7       153.378617\n",
              "8        96.803926\n",
              "9       251.829307\n",
              "10      328.414372\n",
              "11      199.123078\n",
              "12      151.357193\n",
              "13      372.357355\n",
              "14      317.422431\n",
              "15      160.458717\n",
              "16      214.927895\n",
              "17      141.428427\n",
              "18      188.981481\n",
              "19      233.195197\n",
              "20      173.533858\n",
              "21      197.035530\n",
              "22      248.149149\n",
              "23      214.499417\n",
              "24      324.823029\n",
              "25      167.451486\n",
              "26      107.009345\n",
              "27      176.178886\n",
              "28      210.176117\n",
              "29      306.101290\n",
              "           ...    \n",
              "2469    185.868233\n",
              "2470    275.423311\n",
              "2471    176.417119\n",
              "2472    183.869519\n",
              "2473    174.925699\n",
              "2474    184.203692\n",
              "2475    200.895495\n",
              "2476    210.506532\n",
              "2477    181.873582\n",
              "2478    155.948710\n",
              "2479    206.160132\n",
              "2480    183.021857\n",
              "2481    198.939689\n",
              "2482    192.286245\n",
              "2483    203.027092\n",
              "2484      1.000000\n",
              "2485    203.811187\n",
              "2486    140.164189\n",
              "2487    199.809910\n",
              "2488    182.425327\n",
              "2489    200.646455\n",
              "2490    158.946532\n",
              "2491    188.883562\n",
              "2492    188.443626\n",
              "2493    181.733321\n",
              "2494    153.652205\n",
              "2495    185.884373\n",
              "2496    177.747011\n",
              "2497    180.435584\n",
              "2498    177.118604\n",
              "Name: mileage, Length: 2499, dtype: float64"
            ]
          },
          "metadata": {
            "tags": []
          },
          "execution_count": 16
        }
      ]
    },
    {
      "cell_type": "code",
      "metadata": {
        "id": "7MM90D_4krde",
        "colab_type": "code",
        "colab": {},
        "outputId": "a488a1d1-4412-4dd9-8ea0-5d8174c86189"
      },
      "source": [
        "#calculation skewness after calculating the square root & we can observe change in the value of skewness\n",
        "sqrt_mileage.skew()"
      ],
      "execution_count": 0,
      "outputs": [
        {
          "output_type": "execute_result",
          "data": {
            "text/plain": [
              "1.6676282633339148"
            ]
          },
          "metadata": {
            "tags": []
          },
          "execution_count": 19
        }
      ]
    },
    {
      "cell_type": "code",
      "metadata": {
        "id": "cMjPpKgVkrdi",
        "colab_type": "code",
        "colab": {},
        "outputId": "57249972-68cf-45c0-8c49-9fb83dd57dea"
      },
      "source": [
        "#visualising by density plot\n",
        "sns.distplot(sqrt_mileage, hist = True)"
      ],
      "execution_count": 0,
      "outputs": [
        {
          "output_type": "execute_result",
          "data": {
            "text/plain": [
              "<matplotlib.axes._subplots.AxesSubplot at 0x1dee8a5d710>"
            ]
          },
          "metadata": {
            "tags": []
          },
          "execution_count": 20
        },
        {
          "output_type": "display_data",
          "data": {
            "image/png": "[encoded data removed]",
            "text/plain": [
              "<Figure size 432x288 with 1 Axes>"
            ]
          },
          "metadata": {
            "tags": [],
            "needs_background": "light"
          }
        }
      ]
    },
    {
      "cell_type": "markdown",
      "metadata": {
        "id": "YDWan29Bkrdn",
        "colab_type": "text"
      },
      "source": [
        "__Note:__ In previous case we got the __nan__ because of zero, but the square root tranformation has reduced the skewed values __from 7.07 to 1.66.__ which is very much nearer to zero compare to 7.07."
      ]
    },
    {
      "cell_type": "markdown",
      "metadata": {
        "id": "dFvPKkHikrdo",
        "colab_type": "text"
      },
      "source": [
        "#### 2.2 cube root Transformation"
      ]
    },
    {
      "cell_type": "markdown",
      "metadata": {
        "id": "f-F0lzCXkrdq",
        "colab_type": "text"
      },
      "source": [
        "* The cube root means __x to x^(1/3)__. This is a fairly strong transformation with a substantial effect on distribution shape, \n",
        "\n",
        "* It is __weaker than the logarithm but stronger than the square root__ transformation.\n",
        "\n",
        "* It is also used for reducing right skewness, and has the advantage that it can be __applied to zero and negative values__.  Note that the cube root of a volume has the units of a length. It is commonly applied to rainfall data."
      ]
    },
    {
      "cell_type": "code",
      "metadata": {
        "id": "Qc22xos5krdr",
        "colab_type": "code",
        "colab": {},
        "outputId": "85e43b2c-e27c-4cff-c372-532dd023079b"
      },
      "source": [
        "#calculating the cube root for the column data['mileage'] column\n",
        "\n",
        "cube_root_mileage = np.cbrt(data['mileage'])\n",
        "cube_root_mileage"
      ],
      "execution_count": 0,
      "outputs": [
        {
          "output_type": "execute_result",
          "data": {
            "text/plain": [
              "0       64.959896\n",
              "1       57.544590\n",
              "2       34.082269\n",
              "3       40.030394\n",
              "4       18.808793\n",
              "5       35.716132\n",
              "6       53.020521\n",
              "7       28.653425\n",
              "8       21.082817\n",
              "9       39.878381\n",
              "10      47.600857\n",
              "11      34.099478\n",
              "12      28.401114\n",
              "13      51.757500\n",
              "14      46.532717\n",
              "15      29.528556\n",
              "16      35.880778\n",
              "17      27.145081\n",
              "18      32.931600\n",
              "19      37.886085\n",
              "20      31.111634\n",
              "21      33.860734\n",
              "22      39.488914\n",
              "23      35.833075\n",
              "24      47.253198\n",
              "25      30.380343\n",
              "26      22.539683\n",
              "27      31.426975\n",
              "28      35.349959\n",
              "29      45.419614\n",
              "          ...    \n",
              "2469    32.568927\n",
              "2470    42.331838\n",
              "2471    31.455299\n",
              "2472    32.335022\n",
              "2473    31.277767\n",
              "2474    32.374188\n",
              "2475    34.301528\n",
              "2476    35.386998\n",
              "2477    32.100595\n",
              "2478    28.972626\n",
              "2479    34.898208\n",
              "2480    32.235566\n",
              "2481    34.078538\n",
              "2482    33.314411\n",
              "2483    34.543738\n",
              "2484     1.000000\n",
              "2485    34.632620\n",
              "2486    26.983071\n",
              "2487    34.177846\n",
              "2488    32.165484\n",
              "2489    34.273174\n",
              "2490    29.342743\n",
              "2491    32.920224\n",
              "2492    32.869086\n",
              "2493    32.084089\n",
              "2494    28.687489\n",
              "2495    32.570812\n",
              "2496    31.613181\n",
              "2497    31.931167\n",
              "2498    31.538627\n",
              "Name: mileage, Length: 2499, dtype: float64"
            ]
          },
          "metadata": {
            "tags": []
          },
          "execution_count": 21
        }
      ]
    },
    {
      "cell_type": "code",
      "metadata": {
        "id": "OyTUT35Jkrdv",
        "colab_type": "code",
        "colab": {},
        "outputId": "f51d9373-ae4c-48b9-c976-656fb18072e7"
      },
      "source": [
        "#calculation skewness after calculating the cube root \n",
        "cube_root_mileage.skew()"
      ],
      "execution_count": 0,
      "outputs": [
        {
          "output_type": "execute_result",
          "data": {
            "text/plain": [
              "0.6866069687334178"
            ]
          },
          "metadata": {
            "tags": []
          },
          "execution_count": 22
        }
      ]
    },
    {
      "cell_type": "code",
      "metadata": {
        "id": "Ndr_dLyBkrd0",
        "colab_type": "code",
        "colab": {},
        "outputId": "4b65933c-0c19-4229-cb74-4a4264a3a011"
      },
      "source": [
        "#visualising by density plot\n",
        "sns.distplot(cube_root_mileage, hist = True)"
      ],
      "execution_count": 0,
      "outputs": [
        {
          "output_type": "execute_result",
          "data": {
            "text/plain": [
              "<matplotlib.axes._subplots.AxesSubplot at 0x1dee8cce358>"
            ]
          },
          "metadata": {
            "tags": []
          },
          "execution_count": 23
        },
        {
          "output_type": "display_data",
          "data": {
            "image/png": "[encoded data removed]",
            "text/plain": [
              "<Figure size 432x288 with 1 Axes>"
            ]
          },
          "metadata": {
            "tags": [],
            "needs_background": "light"
          }
        }
      ]
    },
    {
      "cell_type": "markdown",
      "metadata": {
        "id": "oiJNR_5Hkrd7",
        "colab_type": "text"
      },
      "source": [
        "__Note:__ In logrithm transformation we got the __nan__ because of zero, and in the square root tranformation it has reduced the skewed values from __7.07 to 1.66.__ but now in cube root transformation the skewed values __reduced to 0.68.__ and it is very much near to zero compare to 1.66 and 7.07."
      ]
    },
    {
      "cell_type": "markdown",
      "metadata": {
        "id": "eTsmWdYgkrd7",
        "colab_type": "text"
      },
      "source": [
        "### 3. reciprocals Transformation\n",
        "\n",
        "* The reciprocal, x to 1/x, with its sibling the negative reciprocal, __x to -1/x__, is a very strong transformation with a drastic effect on distribution shape. \n",
        "\n",
        "* It can not be applied to zero values. Although it can be applied to __negative values__, it is not useful unless all values are positive.\n",
        "\n",
        "For Example: we might want to multiply or divide the results of taking the reciprocal by some constant, such as 100 or 1000, to get numbers that are easy to manage, but that itself has no effect on skewness or linearity."
      ]
    },
    {
      "cell_type": "code",
      "metadata": {
        "id": "JSOTn4TVkrd9",
        "colab_type": "code",
        "colab": {},
        "outputId": "ed4f22d1-8c4d-47ed-9402-9c3cb8a11e84"
      },
      "source": [
        "#calculating the reciprocal for the column data['mileage'] column\n",
        "recipr_mileage = np.reciprocal(data['mileage'])\n",
        "recipr_mileage"
      ],
      "execution_count": 0,
      "outputs": [
        {
          "output_type": "stream",
          "text": [
            "C:\\ProgramData\\Anaconda3\\lib\\site-packages\\ipykernel_launcher.py:2: RuntimeWarning: divide by zero encountered in reciprocal\n",
            "  \n"
          ],
          "name": "stderr"
        },
        {
          "output_type": "execute_result",
          "data": {
            "text/plain": [
              "0       0.000004\n",
              "1       0.000005\n",
              "2       0.000025\n",
              "3       0.000016\n",
              "4       0.000150\n",
              "5       0.000022\n",
              "6       0.000007\n",
              "7       0.000043\n",
              "8       0.000107\n",
              "9       0.000016\n",
              "10      0.000009\n",
              "11      0.000025\n",
              "12      0.000044\n",
              "13      0.000007\n",
              "14      0.000010\n",
              "15      0.000039\n",
              "16      0.000022\n",
              "17      0.000050\n",
              "18      0.000028\n",
              "19      0.000018\n",
              "20      0.000033\n",
              "21      0.000026\n",
              "22      0.000016\n",
              "23      0.000022\n",
              "24      0.000009\n",
              "25      0.000036\n",
              "26      0.000087\n",
              "27      0.000032\n",
              "28      0.000023\n",
              "29      0.000011\n",
              "          ...   \n",
              "2469    0.000029\n",
              "2470    0.000013\n",
              "2471    0.000032\n",
              "2472    0.000030\n",
              "2473    0.000033\n",
              "2474    0.000029\n",
              "2475    0.000025\n",
              "2476    0.000023\n",
              "2477    0.000030\n",
              "2478    0.000041\n",
              "2479    0.000024\n",
              "2480    0.000030\n",
              "2481    0.000025\n",
              "2482    0.000027\n",
              "2483    0.000024\n",
              "2484    1.000000\n",
              "2485    0.000024\n",
              "2486    0.000051\n",
              "2487    0.000025\n",
              "2488    0.000030\n",
              "2489    0.000025\n",
              "2490    0.000040\n",
              "2491    0.000028\n",
              "2492    0.000028\n",
              "2493    0.000030\n",
              "2494    0.000042\n",
              "2495    0.000029\n",
              "2496    0.000032\n",
              "2497    0.000031\n",
              "2498    0.000032\n",
              "Name: mileage, Length: 2499, dtype: float64"
            ]
          },
          "metadata": {
            "tags": []
          },
          "execution_count": 24
        }
      ]
    },
    {
      "cell_type": "code",
      "metadata": {
        "id": "MkaOMjj1kreC",
        "colab_type": "code",
        "colab": {},
        "outputId": "94727594-28ef-4895-8bf0-108ff3657aee"
      },
      "source": [
        "recipr_mileage.skew()"
      ],
      "execution_count": 0,
      "outputs": [
        {
          "output_type": "execute_result",
          "data": {
            "text/plain": [
              "nan"
            ]
          },
          "metadata": {
            "tags": []
          },
          "execution_count": 25
        }
      ]
    },
    {
      "cell_type": "markdown",
      "metadata": {
        "id": "YohlDEy-kreG",
        "colab_type": "text"
      },
      "source": [
        "__Note:__ It's giving output as  __nan__ because there are some values as the zero. In reciprocal transformation, __it's good deal with negative numbers not with zero.__"
      ]
    },
    {
      "cell_type": "markdown",
      "metadata": {
        "id": "dnjjXDZ4kreH",
        "colab_type": "text"
      },
      "source": [
        "## To Handle Left skewness"
      ]
    },
    {
      "cell_type": "code",
      "metadata": {
        "id": "E_6nTasLkreI",
        "colab_type": "code",
        "colab": {},
        "outputId": "2ce3b80e-b1a8-4d3d-bf3b-d0f06fee6c5e"
      },
      "source": [
        "#let's create small dataset & have alook on left skewness\n",
        "Data = [['sameer',10],['pankaj',20],['sam',30],['Hemant',48],['vivek',62],['ram',87],['suman', 93],['anup',85],['mohit',60],['sandeep',75],['ajeet',84],\n",
        "        ['yash',90], ['sam', 99], ['deepak', 92],['vikas', 99],['rajiv',95],['sivam', 94],['akash', 89],['vinod',90],['Kundan',87],['Abhay',99]]\n",
        "\n",
        "df = pd.DataFrame(Data, columns=['Name','Marks'] )  #converting in dataframe\n",
        "df"
      ],
      "execution_count": 0,
      "outputs": [
        {
          "output_type": "execute_result",
          "data": {
            "text/html": [
              "<div>\n",
              "<style scoped>\n",
              "    .dataframe tbody tr th:only-of-type {\n",
              "        vertical-align: middle;\n",
              "    }\n",
              "\n",
              "    .dataframe tbody tr th {\n",
              "        vertical-align: top;\n",
              "    }\n",
              "\n",
              "    .dataframe thead th {\n",
              "        text-align: right;\n",
              "    }\n",
              "</style>\n",
              "<table border=\"1\" class=\"dataframe\">\n",
              "  <thead>\n",
              "    <tr style=\"text-align: right;\">\n",
              "      <th></th>\n",
              "      <th>Name</th>\n",
              "      <th>Marks</th>\n",
              "    </tr>\n",
              "  </thead>\n",
              "  <tbody>\n",
              "    <tr>\n",
              "      <th>0</th>\n",
              "      <td>sameer</td>\n",
              "      <td>10</td>\n",
              "    </tr>\n",
              "    <tr>\n",
              "      <th>1</th>\n",
              "      <td>pankaj</td>\n",
              "      <td>20</td>\n",
              "    </tr>\n",
              "    <tr>\n",
              "      <th>2</th>\n",
              "      <td>sam</td>\n",
              "      <td>30</td>\n",
              "    </tr>\n",
              "    <tr>\n",
              "      <th>3</th>\n",
              "      <td>Hemant</td>\n",
              "      <td>48</td>\n",
              "    </tr>\n",
              "    <tr>\n",
              "      <th>4</th>\n",
              "      <td>vivek</td>\n",
              "      <td>62</td>\n",
              "    </tr>\n",
              "    <tr>\n",
              "      <th>5</th>\n",
              "      <td>ram</td>\n",
              "      <td>87</td>\n",
              "    </tr>\n",
              "    <tr>\n",
              "      <th>6</th>\n",
              "      <td>suman</td>\n",
              "      <td>93</td>\n",
              "    </tr>\n",
              "    <tr>\n",
              "      <th>7</th>\n",
              "      <td>anup</td>\n",
              "      <td>85</td>\n",
              "    </tr>\n",
              "    <tr>\n",
              "      <th>8</th>\n",
              "      <td>mohit</td>\n",
              "      <td>60</td>\n",
              "    </tr>\n",
              "    <tr>\n",
              "      <th>9</th>\n",
              "      <td>sandeep</td>\n",
              "      <td>75</td>\n",
              "    </tr>\n",
              "    <tr>\n",
              "      <th>10</th>\n",
              "      <td>ajeet</td>\n",
              "      <td>84</td>\n",
              "    </tr>\n",
              "    <tr>\n",
              "      <th>11</th>\n",
              "      <td>yash</td>\n",
              "      <td>90</td>\n",
              "    </tr>\n",
              "    <tr>\n",
              "      <th>12</th>\n",
              "      <td>sam</td>\n",
              "      <td>99</td>\n",
              "    </tr>\n",
              "    <tr>\n",
              "      <th>13</th>\n",
              "      <td>deepak</td>\n",
              "      <td>92</td>\n",
              "    </tr>\n",
              "    <tr>\n",
              "      <th>14</th>\n",
              "      <td>vikas</td>\n",
              "      <td>99</td>\n",
              "    </tr>\n",
              "    <tr>\n",
              "      <th>15</th>\n",
              "      <td>rajiv</td>\n",
              "      <td>95</td>\n",
              "    </tr>\n",
              "    <tr>\n",
              "      <th>16</th>\n",
              "      <td>sivam</td>\n",
              "      <td>94</td>\n",
              "    </tr>\n",
              "    <tr>\n",
              "      <th>17</th>\n",
              "      <td>akash</td>\n",
              "      <td>89</td>\n",
              "    </tr>\n",
              "    <tr>\n",
              "      <th>18</th>\n",
              "      <td>vinod</td>\n",
              "      <td>90</td>\n",
              "    </tr>\n",
              "    <tr>\n",
              "      <th>19</th>\n",
              "      <td>Kundan</td>\n",
              "      <td>87</td>\n",
              "    </tr>\n",
              "    <tr>\n",
              "      <th>20</th>\n",
              "      <td>Abhay</td>\n",
              "      <td>99</td>\n",
              "    </tr>\n",
              "  </tbody>\n",
              "</table>\n",
              "</div>"
            ],
            "text/plain": [
              "       Name  Marks\n",
              "0    sameer     10\n",
              "1    pankaj     20\n",
              "2       sam     30\n",
              "3    Hemant     48\n",
              "4     vivek     62\n",
              "5       ram     87\n",
              "6     suman     93\n",
              "7      anup     85\n",
              "8     mohit     60\n",
              "9   sandeep     75\n",
              "10    ajeet     84\n",
              "11     yash     90\n",
              "12      sam     99\n",
              "13   deepak     92\n",
              "14    vikas     99\n",
              "15    rajiv     95\n",
              "16    sivam     94\n",
              "17    akash     89\n",
              "18    vinod     90\n",
              "19   Kundan     87\n",
              "20    Abhay     99"
            ]
          },
          "metadata": {
            "tags": []
          },
          "execution_count": 26
        }
      ]
    },
    {
      "cell_type": "code",
      "metadata": {
        "id": "cprbF4xZkreN",
        "colab_type": "code",
        "colab": {},
        "outputId": "4c0c0933-135a-4de8-fff2-25e4dbf28174"
      },
      "source": [
        "#ploting the Density & histogram plot\n",
        "import seaborn as sns\n",
        "sns.distplot(df['Marks'], hist = True)"
      ],
      "execution_count": 0,
      "outputs": [
        {
          "output_type": "execute_result",
          "data": {
            "text/plain": [
              "<matplotlib.axes._subplots.AxesSubplot at 0x1dee8deb630>"
            ]
          },
          "metadata": {
            "tags": []
          },
          "execution_count": 27
        },
        {
          "output_type": "display_data",
          "data": {
            "image/png": "[encoded data removed]",
            "text/plain": [
              "<Figure size 432x288 with 1 Axes>"
            ]
          },
          "metadata": {
            "tags": [],
            "needs_background": "light"
          }
        }
      ]
    },
    {
      "cell_type": "code",
      "metadata": {
        "id": "cE8mrr4akreR",
        "colab_type": "code",
        "colab": {},
        "outputId": "720febd2-fe7d-408e-e524-4b40303df1b5"
      },
      "source": [
        "#checking the skewness\n",
        "df['Marks'].skew()"
      ],
      "execution_count": 0,
      "outputs": [
        {
          "output_type": "execute_result",
          "data": {
            "text/plain": [
              "-1.4076657771292151"
            ]
          },
          "metadata": {
            "tags": []
          },
          "execution_count": 28
        }
      ]
    },
    {
      "cell_type": "markdown",
      "metadata": {
        "id": "5PexCtITkrec",
        "colab_type": "text"
      },
      "source": [
        "### Note: If the skewness is less than -1 and greater than +1 then our data is heavily skewed. Our data is left skewed here,the skewed value is less than -1. Let's try to make it symmmetric."
      ]
    },
    {
      "cell_type": "markdown",
      "metadata": {
        "id": "B2d3MtMMkred",
        "colab_type": "text"
      },
      "source": [
        "### 1. squares Transformation\n",
        "            - cubes\n",
        "            - higher powers."
      ]
    },
    {
      "cell_type": "markdown",
      "metadata": {
        "id": "BmOMMKTCkree",
        "colab_type": "text"
      },
      "source": [
        "* The square, __x to x^2,__ has a moderate effect on distribution shape and it could be used to __reduce left skewness.__  \n",
        "\n",
        "* Squaring usually makes sense only if the variable concerned is zero or positive, given that (-x)^2 and x^2 are identical."
      ]
    },
    {
      "cell_type": "code",
      "metadata": {
        "id": "meOn5iUSkref",
        "colab_type": "code",
        "colab": {},
        "outputId": "ca62f3ba-3339-4b88-cbc3-19ac065dc40f"
      },
      "source": [
        "#calculating the square for the column df['Marks'] column\n",
        "Square_marks = np.square(df['Marks'])\n",
        "Square_marks"
      ],
      "execution_count": 0,
      "outputs": [
        {
          "output_type": "execute_result",
          "data": {
            "text/plain": [
              "0      100\n",
              "1      400\n",
              "2      900\n",
              "3     2304\n",
              "4     3844\n",
              "5     7569\n",
              "6     8649\n",
              "7     7225\n",
              "8     3600\n",
              "9     5625\n",
              "10    7056\n",
              "11    8100\n",
              "12    9801\n",
              "13    8464\n",
              "14    9801\n",
              "15    9025\n",
              "16    8836\n",
              "17    7921\n",
              "18    8100\n",
              "19    7569\n",
              "20    9801\n",
              "Name: Marks, dtype: int64"
            ]
          },
          "metadata": {
            "tags": []
          },
          "execution_count": 29
        }
      ]
    },
    {
      "cell_type": "code",
      "metadata": {
        "id": "qFKFx_Qmkrel",
        "colab_type": "code",
        "colab": {},
        "outputId": "51276e86-b7e4-4632-f99e-ea4f12f4f01e"
      },
      "source": [
        "#checking the skewness\n",
        "Square_marks.skew()"
      ],
      "execution_count": 0,
      "outputs": [
        {
          "output_type": "execute_result",
          "data": {
            "text/plain": [
              "-0.9341854225868288"
            ]
          },
          "metadata": {
            "tags": []
          },
          "execution_count": 30
        }
      ]
    },
    {
      "cell_type": "code",
      "metadata": {
        "id": "GvVsYVSbkres",
        "colab_type": "code",
        "colab": {},
        "outputId": "6fbec818-37d6-41be-a1a3-da0666427ae9"
      },
      "source": [
        "#plotting the density and histogram plot\n",
        "sns.distplot(Square_marks, hist=True)"
      ],
      "execution_count": 0,
      "outputs": [
        {
          "output_type": "execute_result",
          "data": {
            "text/plain": [
              "<matplotlib.axes._subplots.AxesSubplot at 0x1dee8e72f98>"
            ]
          },
          "metadata": {
            "tags": []
          },
          "execution_count": 31
        },
        {
          "output_type": "display_data",
          "data": {
            "image/png": "[encoded data removed]",
            "text/plain": [
              "<Figure size 432x288 with 1 Axes>"
            ]
          },
          "metadata": {
            "tags": [],
            "needs_background": "light"
          }
        }
      ]
    },
    {
      "cell_type": "markdown",
      "metadata": {
        "id": "qv-olVTNkre1",
        "colab_type": "text"
      },
      "source": [
        "### Note: After applying the square Transformation, we are getting the skewed value as 0.93. If the skewed value lies in between -1 to 0.5 then data is moderately skewed. let's try some other transformation.\n",
        "\n"
      ]
    },
    {
      "cell_type": "markdown",
      "metadata": {
        "id": "nNJpgB3rkre5",
        "colab_type": "text"
      },
      "source": [
        "### 2. Cubes Tranformation"
      ]
    },
    {
      "cell_type": "markdown",
      "metadata": {
        "id": "6Qk_EBXbkre7",
        "colab_type": "text"
      },
      "source": [
        "The cube, x to x³, has a better effect on distribution shape than squaring and it could be used to reduce left skewness."
      ]
    },
    {
      "cell_type": "code",
      "metadata": {
        "id": "MhQNtUCPkre9",
        "colab_type": "code",
        "colab": {},
        "outputId": "95cbfa66-640a-4fa1-a4fe-8270cd3d34a2"
      },
      "source": [
        "#calculating the Cubes for the column df['Marks'] column\n",
        "cube_marks = np.power(df['Marks'], 3)\n",
        "cube_marks"
      ],
      "execution_count": 0,
      "outputs": [
        {
          "output_type": "execute_result",
          "data": {
            "text/plain": [
              "0       1000\n",
              "1       8000\n",
              "2      27000\n",
              "3     110592\n",
              "4     238328\n",
              "5     658503\n",
              "6     804357\n",
              "7     614125\n",
              "8     216000\n",
              "9     421875\n",
              "10    592704\n",
              "11    729000\n",
              "12    970299\n",
              "13    778688\n",
              "14    970299\n",
              "15    857375\n",
              "16    830584\n",
              "17    704969\n",
              "18    729000\n",
              "19    658503\n",
              "20    970299\n",
              "Name: Marks, dtype: int64"
            ]
          },
          "metadata": {
            "tags": []
          },
          "execution_count": 32
        }
      ]
    },
    {
      "cell_type": "code",
      "metadata": {
        "id": "NWNF_5ntkrfI",
        "colab_type": "code",
        "colab": {},
        "outputId": "5e3b9614-1eb0-4d35-d9aa-f53c42a524f2"
      },
      "source": [
        "#calculating the skewness\n",
        "cube_marks.skew()"
      ],
      "execution_count": 0,
      "outputs": [
        {
          "output_type": "execute_result",
          "data": {
            "text/plain": [
              "-0.6133662709032679"
            ]
          },
          "metadata": {
            "tags": []
          },
          "execution_count": 33
        }
      ]
    },
    {
      "cell_type": "code",
      "metadata": {
        "id": "2fk3sOzokrfQ",
        "colab_type": "code",
        "colab": {},
        "outputId": "d11cd1ac-b439-4c93-ad99-7ab5aad51094"
      },
      "source": [
        "#plotting the density and histogram plot\n",
        "sns.distplot(cube_marks, hist= True)"
      ],
      "execution_count": 0,
      "outputs": [
        {
          "output_type": "execute_result",
          "data": {
            "text/plain": [
              "<matplotlib.axes._subplots.AxesSubplot at 0x1dee8ee2240>"
            ]
          },
          "metadata": {
            "tags": []
          },
          "execution_count": 34
        },
        {
          "output_type": "display_data",
          "data": {
            "image/png": "[encoded data removed]",
            "text/plain": [
              "<Figure size 432x288 with 1 Axes>"
            ]
          },
          "metadata": {
            "tags": [],
            "needs_background": "light"
          }
        }
      ]
    },
    {
      "cell_type": "markdown",
      "metadata": {
        "id": "Lcbl8P5wkrfX",
        "colab_type": "text"
      },
      "source": [
        "### Note: After applying the cube transformation, the skewed value is -0.6 , and If the skewed value lies in between -1 to 0.5 then data is moderately skewed. let's try some other transformation."
      ]
    },
    {
      "cell_type": "markdown",
      "metadata": {
        "id": "D8xgPSOLkrfZ",
        "colab_type": "text"
      },
      "source": [
        "# 3. higher powers\n",
        "### When simple transformation like square and cubes doesn’t reduce the skewness in the data distribution, we can use Higher powers to transform to data. It is only useful in left skewness."
      ]
    },
    {
      "cell_type": "code",
      "metadata": {
        "id": "2GnanfLxkrfb",
        "colab_type": "code",
        "colab": {},
        "outputId": "58d3eb1a-56af-412a-87f2-ad5acb0b73c3"
      },
      "source": [
        "#calculating the Higher power(power = 4) for the column df['Marks'] column\n",
        "higher_power_4 = np.power(df['Marks'], 4)\n",
        "higher_power_4"
      ],
      "execution_count": 0,
      "outputs": [
        {
          "output_type": "execute_result",
          "data": {
            "text/plain": [
              "0        10000\n",
              "1       160000\n",
              "2       810000\n",
              "3      5308416\n",
              "4     14776336\n",
              "5     57289761\n",
              "6     74805201\n",
              "7     52200625\n",
              "8     12960000\n",
              "9     31640625\n",
              "10    49787136\n",
              "11    65610000\n",
              "12    96059601\n",
              "13    71639296\n",
              "14    96059601\n",
              "15    81450625\n",
              "16    78074896\n",
              "17    62742241\n",
              "18    65610000\n",
              "19    57289761\n",
              "20    96059601\n",
              "Name: Marks, dtype: int64"
            ]
          },
          "metadata": {
            "tags": []
          },
          "execution_count": 35
        }
      ]
    },
    {
      "cell_type": "code",
      "metadata": {
        "id": "jAoFJl3Mkrfo",
        "colab_type": "code",
        "colab": {},
        "outputId": "f8fd2395-33fa-4928-ef35-1871b7defe51"
      },
      "source": [
        "#calculating the skewness\n",
        "higher_power_4.skew()"
      ],
      "execution_count": 0,
      "outputs": [
        {
          "output_type": "execute_result",
          "data": {
            "text/plain": [
              "-0.3563776896040546"
            ]
          },
          "metadata": {
            "tags": []
          },
          "execution_count": 36
        }
      ]
    },
    {
      "cell_type": "code",
      "metadata": {
        "id": "79P7e4Srkrf4",
        "colab_type": "code",
        "colab": {},
        "outputId": "2897f6de-43cd-4b36-f9ac-eb90fa989155"
      },
      "source": [
        "#plotting the density and histogram\n",
        "sns.distplot(higher_power_4, hist = True)"
      ],
      "execution_count": 0,
      "outputs": [
        {
          "output_type": "execute_result",
          "data": {
            "text/plain": [
              "<matplotlib.axes._subplots.AxesSubplot at 0x1dee8f03668>"
            ]
          },
          "metadata": {
            "tags": []
          },
          "execution_count": 37
        },
        {
          "output_type": "display_data",
          "data": {
            "image/png": "[encoded data removed]",
            "text/plain": [
              "<Figure size 432x288 with 1 Axes>"
            ]
          },
          "metadata": {
            "tags": [],
            "needs_background": "light"
          }
        }
      ]
    },
    {
      "cell_type": "markdown",
      "metadata": {
        "id": "H6W5P-qPkrgZ",
        "colab_type": "text"
      },
      "source": [
        "### Note: After applying the higher power (power = 4) the skewness is changed from -1.4 to -0.3.If the skewness is between -0.5 to +0.5 then we can say data is fairly symmetrical. So, finally we have got the best result and we got the skew value as -0.3.\n",
        "\n",
        "### Incase if we would not have got this skew value still after applying these many powers, we can increase the power to get more better result. You can check out the below for better understanding:"
      ]
    },
    {
      "cell_type": "code",
      "metadata": {
        "id": "8er3z8MIkrga",
        "colab_type": "code",
        "colab": {},
        "outputId": "a322a467-3eea-42ca-eedf-3acd341a7e5b"
      },
      "source": [
        "#applying the higher power(power = 5) and calculating the skewness\n",
        "higher_power_5 = np.power(df['Marks'], 5)\n",
        "higher_power_5.skew()"
      ],
      "execution_count": 0,
      "outputs": [
        {
          "output_type": "execute_result",
          "data": {
            "text/plain": [
              "-0.12781688683710232"
            ]
          },
          "metadata": {
            "tags": []
          },
          "execution_count": 38
        }
      ]
    },
    {
      "cell_type": "code",
      "metadata": {
        "id": "w3t7idZ_krgr",
        "colab_type": "code",
        "colab": {},
        "outputId": "7fbb4572-b9e0-4fb2-f184-1d919e233793"
      },
      "source": [
        "#plotting the density and histogram\n",
        "sns.distplot(higher_power_5, hist = True)"
      ],
      "execution_count": 0,
      "outputs": [
        {
          "output_type": "execute_result",
          "data": {
            "text/plain": [
              "<matplotlib.axes._subplots.AxesSubplot at 0x1dee8fb60b8>"
            ]
          },
          "metadata": {
            "tags": []
          },
          "execution_count": 39
        },
        {
          "output_type": "display_data",
          "data": {
            "image/png": "[encoded data removed]",
            "text/plain": [
              "<Figure size 432x288 with 1 Axes>"
            ]
          },
          "metadata": {
            "tags": [],
            "needs_background": "light"
          }
        }
      ]
    },
    {
      "cell_type": "code",
      "metadata": {
        "id": "H7X-6B3Okrgv",
        "colab_type": "code",
        "colab": {},
        "outputId": "3c87fece-5966-4c20-d333-c7ec6c40dcf5"
      },
      "source": [
        "#applying the higher power(power = 5) and calculating the skewness\n",
        "higher_power_6 = np.power(df['Marks'], 6)\n",
        "higher_power_6.skew()"
      ],
      "execution_count": 0,
      "outputs": [
        {
          "output_type": "execute_result",
          "data": {
            "text/plain": [
              "0.08406219634567366"
            ]
          },
          "metadata": {
            "tags": []
          },
          "execution_count": 40
        }
      ]
    },
    {
      "cell_type": "code",
      "metadata": {
        "id": "3UB719c1krgz",
        "colab_type": "code",
        "colab": {},
        "outputId": "4f352e66-18b0-4482-fd7f-b3e4ea87a093"
      },
      "source": [
        "#plotting the density and histogram \n",
        "sns.distplot(higher_power_6, hist= True)"
      ],
      "execution_count": 0,
      "outputs": [
        {
          "output_type": "execute_result",
          "data": {
            "text/plain": [
              "<matplotlib.axes._subplots.AxesSubplot at 0x1dee8fb63c8>"
            ]
          },
          "metadata": {
            "tags": []
          },
          "execution_count": 41
        },
        {
          "output_type": "display_data",
          "data": {
            "image/png": "[encoded data removed]",
            "text/plain": [
              "<Figure size 432x288 with 1 Axes>"
            ]
          },
          "metadata": {
            "tags": [],
            "needs_background": "light"
          }
        }
      ]
    },
    {
      "cell_type": "markdown",
      "metadata": {
        "id": "VnxdaM04krg5",
        "colab_type": "text"
      },
      "source": [
        "### Note: Finally, we have got the skewed value as 0.08 (almost 0), and we can see the data is not symetrically distributed."
      ]
    },
    {
      "cell_type": "markdown",
      "metadata": {
        "id": "USdFLDOukrg6",
        "colab_type": "text"
      },
      "source": [
        "# Let's look into some more example"
      ]
    },
    {
      "cell_type": "code",
      "metadata": {
        "id": "RSNBKGFokrg7",
        "colab_type": "code",
        "colab": {}
      },
      "source": [
        "import pandas as pd \n",
        "import numpy as np\n",
        "import seaborn as sns\n",
        "import matplotlib.pyplot as plt\n",
        "from scipy.stats import skew, skewtest, norm\n",
        "from scipy.stats import kurtosis"
      ],
      "execution_count": 0,
      "outputs": []
    },
    {
      "cell_type": "code",
      "metadata": {
        "id": "_cnXjRackrhA",
        "colab_type": "code",
        "colab": {}
      },
      "source": [
        "data1=pd.read_csv('house1.csv')"
      ],
      "execution_count": 0,
      "outputs": []
    },
    {
      "cell_type": "code",
      "metadata": {
        "id": "b380zOSzkrhF",
        "colab_type": "code",
        "colab": {},
        "outputId": "b766b446-b62d-42fc-ca99-08dbdb171c3d"
      },
      "source": [
        "data1.head(2)"
      ],
      "execution_count": 0,
      "outputs": [
        {
          "output_type": "execute_result",
          "data": {
            "text/html": [
              "<div>\n",
              "<style scoped>\n",
              "    .dataframe tbody tr th:only-of-type {\n",
              "        vertical-align: middle;\n",
              "    }\n",
              "\n",
              "    .dataframe tbody tr th {\n",
              "        vertical-align: top;\n",
              "    }\n",
              "\n",
              "    .dataframe thead th {\n",
              "        text-align: right;\n",
              "    }\n",
              "</style>\n",
              "<table border=\"1\" class=\"dataframe\">\n",
              "  <thead>\n",
              "    <tr style=\"text-align: right;\">\n",
              "      <th></th>\n",
              "      <th>Id</th>\n",
              "      <th>MSSubClass</th>\n",
              "      <th>MSZoning</th>\n",
              "      <th>LotFrontage</th>\n",
              "      <th>LotArea</th>\n",
              "      <th>Street</th>\n",
              "      <th>Alley</th>\n",
              "      <th>LotShape</th>\n",
              "      <th>LandContour</th>\n",
              "      <th>Utilities</th>\n",
              "      <th>...</th>\n",
              "      <th>PoolArea</th>\n",
              "      <th>PoolQC</th>\n",
              "      <th>Fence</th>\n",
              "      <th>MiscFeature</th>\n",
              "      <th>MiscVal</th>\n",
              "      <th>MoSold</th>\n",
              "      <th>YrSold</th>\n",
              "      <th>SaleType</th>\n",
              "      <th>SaleCondition</th>\n",
              "      <th>SalePrice</th>\n",
              "    </tr>\n",
              "  </thead>\n",
              "  <tbody>\n",
              "    <tr>\n",
              "      <th>0</th>\n",
              "      <td>1</td>\n",
              "      <td>60</td>\n",
              "      <td>RL</td>\n",
              "      <td>65.0</td>\n",
              "      <td>8450</td>\n",
              "      <td>Pave</td>\n",
              "      <td>NaN</td>\n",
              "      <td>Reg</td>\n",
              "      <td>Lvl</td>\n",
              "      <td>AllPub</td>\n",
              "      <td>...</td>\n",
              "      <td>0</td>\n",
              "      <td>NaN</td>\n",
              "      <td>NaN</td>\n",
              "      <td>NaN</td>\n",
              "      <td>0</td>\n",
              "      <td>2</td>\n",
              "      <td>2008</td>\n",
              "      <td>WD</td>\n",
              "      <td>Normal</td>\n",
              "      <td>208500</td>\n",
              "    </tr>\n",
              "    <tr>\n",
              "      <th>1</th>\n",
              "      <td>2</td>\n",
              "      <td>20</td>\n",
              "      <td>RL</td>\n",
              "      <td>80.0</td>\n",
              "      <td>9600</td>\n",
              "      <td>Pave</td>\n",
              "      <td>NaN</td>\n",
              "      <td>Reg</td>\n",
              "      <td>Lvl</td>\n",
              "      <td>AllPub</td>\n",
              "      <td>...</td>\n",
              "      <td>0</td>\n",
              "      <td>NaN</td>\n",
              "      <td>NaN</td>\n",
              "      <td>NaN</td>\n",
              "      <td>0</td>\n",
              "      <td>5</td>\n",
              "      <td>2007</td>\n",
              "      <td>WD</td>\n",
              "      <td>Normal</td>\n",
              "      <td>181500</td>\n",
              "    </tr>\n",
              "  </tbody>\n",
              "</table>\n",
              "<p>2 rows × 81 columns</p>\n",
              "</div>"
            ],
            "text/plain": [
              "   Id  MSSubClass MSZoning  LotFrontage  LotArea Street Alley LotShape  \\\n",
              "0   1          60       RL         65.0     8450   Pave   NaN      Reg   \n",
              "1   2          20       RL         80.0     9600   Pave   NaN      Reg   \n",
              "\n",
              "  LandContour Utilities  ... PoolArea PoolQC Fence MiscFeature MiscVal MoSold  \\\n",
              "0         Lvl    AllPub  ...        0    NaN   NaN         NaN       0      2   \n",
              "1         Lvl    AllPub  ...        0    NaN   NaN         NaN       0      5   \n",
              "\n",
              "  YrSold  SaleType  SaleCondition  SalePrice  \n",
              "0   2008        WD         Normal     208500  \n",
              "1   2007        WD         Normal     181500  \n",
              "\n",
              "[2 rows x 81 columns]"
            ]
          },
          "metadata": {
            "tags": []
          },
          "execution_count": 27
        }
      ]
    },
    {
      "cell_type": "markdown",
      "metadata": {
        "id": "ky_YU--hkrhJ",
        "colab_type": "text"
      },
      "source": [
        "### Let's check the distribution of the \"SalePrice\""
      ]
    },
    {
      "cell_type": "code",
      "metadata": {
        "id": "we-QgifzkrhK",
        "colab_type": "code",
        "colab": {},
        "outputId": "c2d99c8e-7bab-48d2-aa56-99a8f98fb6ab"
      },
      "source": [
        "data1['SalePrice'].describe()"
      ],
      "execution_count": 0,
      "outputs": [
        {
          "output_type": "execute_result",
          "data": {
            "text/plain": [
              "count      1460.000000\n",
              "mean     180921.195890\n",
              "std       79442.502883\n",
              "min       34900.000000\n",
              "25%      129975.000000\n",
              "50%      163000.000000\n",
              "75%      214000.000000\n",
              "max      755000.000000\n",
              "Name: SalePrice, dtype: float64"
            ]
          },
          "metadata": {
            "tags": []
          },
          "execution_count": 28
        }
      ]
    },
    {
      "cell_type": "markdown",
      "metadata": {
        "id": "UFR7A4h4krhN",
        "colab_type": "text"
      },
      "source": [
        "### Here we can see that Mean (180921) is greater than the median(163000) and the maximum is 3.5 times the 75%. (The distribution is positvely skewed).\n",
        "\n",
        "#### We can say that most of the house prices are below the average."
      ]
    },
    {
      "cell_type": "markdown",
      "metadata": {
        "id": "tbpNcjvmkrhO",
        "colab_type": "text"
      },
      "source": [
        "### Let's plot and check"
      ]
    },
    {
      "cell_type": "code",
      "metadata": {
        "id": "za5KLaJ1krhP",
        "colab_type": "code",
        "colab": {},
        "outputId": "dbd78dcc-c951-4955-fa0b-a788de0a90a6"
      },
      "source": [
        "#Plot and check the distribution \n",
        "plt.figure(figsize=(12,6))\n",
        "sns.distplot(data1['SalePrice'],fit=norm, color =\"r\")\n",
        "plt.show()"
      ],
      "execution_count": 0,
      "outputs": [
        {
          "output_type": "display_data",
          "data": {
            "image/png": "[encoded data removed]",
            "text/plain": [
              "<Figure size 864x432 with 1 Axes>"
            ]
          },
          "metadata": {
            "tags": [],
            "needs_background": "light"
          }
        }
      ]
    },
    {
      "cell_type": "markdown",
      "metadata": {
        "id": "HggsLbilkrhU",
        "colab_type": "text"
      },
      "source": [
        "### The histogram confirm that our dataset is positively skewed."
      ]
    },
    {
      "cell_type": "markdown",
      "metadata": {
        "id": "OkEywMWPkrhU",
        "colab_type": "text"
      },
      "source": [
        "#### Now let's check the measure of skewness and kurtosis"
      ]
    },
    {
      "cell_type": "code",
      "metadata": {
        "id": "FlAe84h1krhV",
        "colab_type": "code",
        "colab": {},
        "outputId": "f442f8d9-3ec0-42ce-c99b-fabf8054e9cf"
      },
      "source": [
        "print(\"Skew of raw data: %f\" % data1['SalePrice'].skew()) #check skewness\n",
        "print(\"Kurtosis of raw data: %f\" % kurtosis(data1['SalePrice'],fisher = False)) #check kurtosis"
      ],
      "execution_count": 0,
      "outputs": [
        {
          "output_type": "stream",
          "text": [
            "Skew of raw data: 1.882876\n",
            "Kurtosis of raw data: 9.509812\n"
          ],
          "name": "stdout"
        }
      ]
    },
    {
      "cell_type": "markdown",
      "metadata": {
        "id": "aqsgLbehkrhj",
        "colab_type": "text"
      },
      "source": [
        "# Let's work with highly kurtosis data.\n",
        "# Note::In this notebook we have focused on skewed dataset & soon how to handle highly skewed dataset will be released soon\n",
        "\n",
        "#### Here, skew of raw data is positive and greater than 1,and kurtosis is greater than 3, right tail of the data is skewed. So, our data in this case is positively skewed and lyptokurtic.\n",
        "\n",
        "#### Note- If we are keeping 'fisher=True', then kurtosis of normal distibution will be 0. Similarly, kurtosis >0 will be leptokurtic and kurtosis < 0 will be platykurtic"
      ]
    },
    {
      "cell_type": "markdown",
      "metadata": {
        "id": "9WSZgZRakrhk",
        "colab_type": "text"
      },
      "source": [
        "## Log Transformation"
      ]
    },
    {
      "cell_type": "markdown",
      "metadata": {
        "id": "uts8xwtdkrhl",
        "colab_type": "text"
      },
      "source": [
        "#### Logarithm is defined only for positive values so we can't apply log transformation on 0 and negative numbers.\n",
        "\n",
        "#### Logarithmic transformation is a convenient means of transforming a highly skewed variable into a more normalized dataset. When modeling variables with non-linear relationships, the chances of producing errors may also be skewed negatively.Using the logarithm of one or more variables improves the fit of the model by transforming the distribution of the features to a more normally-shaped bell curve."
      ]
    },
    {
      "cell_type": "code",
      "metadata": {
        "id": "61_h6qvIkrhl",
        "colab_type": "code",
        "colab": {},
        "outputId": "20f5880b-bc97-4b52-b4e9-88806fd7d736"
      },
      "source": [
        "#log transformation\n",
        "data1['Log_SalePrice'] = np.log(data1['SalePrice']) \n",
        "\n",
        "#check distribution,skewness and kurtosis\n",
        "sns.distplot(data1['Log_SalePrice'], fit=norm,color =\"r\")\n",
        "print(\"Skew after Log Transformation: %f\" % data1['Log_SalePrice'].skew())\n",
        "print(\"Kurtosis after Log Transformation: %f\" % kurtosis(data1['Log_SalePrice'],fisher = False))\n",
        "data1['Log_SalePrice'].describe()"
      ],
      "execution_count": 0,
      "outputs": [
        {
          "output_type": "stream",
          "text": [
            "Skew after Log Transformation: 0.121335\n",
            "Kurtosis after Log Transformation: 3.802656\n"
          ],
          "name": "stdout"
        },
        {
          "output_type": "execute_result",
          "data": {
            "text/plain": [
              "count    1460.000000\n",
              "mean       12.024051\n",
              "std         0.399452\n",
              "min        10.460242\n",
              "25%        11.775097\n",
              "50%        12.001505\n",
              "75%        12.273731\n",
              "max        13.534473\n",
              "Name: Log_SalePrice, dtype: float64"
            ]
          },
          "metadata": {
            "tags": []
          },
          "execution_count": 31
        },
        {
          "output_type": "display_data",
          "data": {
            "image/png": "[encoded data removed]",
            "text/plain": [
              "<Figure size 432x288 with 1 Axes>"
            ]
          },
          "metadata": {
            "tags": [],
            "needs_background": "light"
          }
        }
      ]
    },
    {
      "cell_type": "markdown",
      "metadata": {
        "id": "8CuKmsx3krhq",
        "colab_type": "text"
      },
      "source": [
        "#### Now if you look the distribution it is close to normal distribution. We have also reduced the skewness and the kurtosis.\n",
        "\n",
        "## Let's apply a linear regression model and check how well model performs before and after we apply log transformation."
      ]
    },
    {
      "cell_type": "code",
      "metadata": {
        "id": "R5jo7tP5krhq",
        "colab_type": "code",
        "colab": {},
        "outputId": "b1df0512-56bb-40ae-bf92-22e565aa6813"
      },
      "source": [
        "import statsmodels.api as sm\n",
        "from statsmodels.formula.api import ols\n",
        "\n",
        "f = 'SalePrice~GrLivArea'\n",
        "model = ols(formula=f, data=data1).fit()\n",
        "\n",
        "fig = plt.figure(figsize =(15,8))\n",
        "fig = sm.graphics.plot_regress_exog(model, 'GrLivArea', fig=fig)"
      ],
      "execution_count": 0,
      "outputs": [
        {
          "output_type": "display_data",
          "data": {
            "image/png": "[encoded data removed]",
            "text/plain": [
              "<Figure size 1080x576 with 4 Axes>"
            ]
          },
          "metadata": {
            "tags": [],
            "needs_background": "light"
          }
        }
      ]
    },
    {
      "cell_type": "markdown",
      "metadata": {
        "id": "4AQbBAZ9krh1",
        "colab_type": "text"
      },
      "source": [
        "# We can notice that it has a cone shape where the data points essentially scatter off as we increase in GrLivArea."
      ]
    },
    {
      "cell_type": "markdown",
      "metadata": {
        "id": "qsh_7Ia8krh2",
        "colab_type": "text"
      },
      "source": [
        "### Apply Log on GrLivArea\n"
      ]
    },
    {
      "cell_type": "code",
      "metadata": {
        "id": "88O4q5Vbkrh3",
        "colab_type": "code",
        "colab": {}
      },
      "source": [
        "#log transformation on GrLivArea\n",
        "\n",
        "data1['Log_GrLivArea'] = np.log(data1['GrLivArea'])"
      ],
      "execution_count": 0,
      "outputs": []
    },
    {
      "cell_type": "markdown",
      "metadata": {
        "id": "U0V4YWbGkrh6",
        "colab_type": "text"
      },
      "source": [
        "### Apply Linear Regression on Log transformed SalePrice and GrLivArea\n"
      ]
    },
    {
      "cell_type": "code",
      "metadata": {
        "id": "aXfnSqsFkrh7",
        "colab_type": "code",
        "colab": {},
        "outputId": "3376521e-2cb1-40bc-f6e6-717c6a7ca704"
      },
      "source": [
        "import statsmodels.api as sm\n",
        "from statsmodels.formula.api import ols\n",
        "\n",
        "f = 'Log_SalePrice~Log_GrLivArea'\n",
        "model = ols(formula=f, data=data1).fit()\n",
        "\n",
        "fig = plt.figure(figsize =(15,8))\n",
        "fig = sm.graphics.plot_regress_exog(model, 'Log_GrLivArea', fig=fig)"
      ],
      "execution_count": 0,
      "outputs": [
        {
          "output_type": "display_data",
          "data": {
            "image/png": "[encoded data removed]",
            "text/plain": [
              "<Figure size 1080x576 with 4 Axes>"
            ]
          },
          "metadata": {
            "tags": [],
            "needs_background": "light"
          }
        }
      ]
    },
    {
      "cell_type": "markdown",
      "metadata": {
        "id": "itzmrvBwkriC",
        "colab_type": "text"
      },
      "source": [
        "#### We can now see the relationship as a percent change. By applying the logarithm to the variables, there is a much more distinguished and or adjusted linear regression line through the base of the data points, resulting in a better prediction model."
      ]
    },
    {
      "cell_type": "markdown",
      "metadata": {
        "id": "oQh-nuU8kriD",
        "colab_type": "text"
      },
      "source": [
        "# Finally You have learned a lot & we wish you will be feeling like\n",
        "![tenor.gif](attachment:tenor.gif)"
      ]
    }
  ]
}